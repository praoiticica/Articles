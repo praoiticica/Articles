{
 "cells": [
  {
   "cell_type": "markdown",
   "id": "915623b4-8baa-4582-b1f1-f83865fa79dd",
   "metadata": {},
   "source": [
    "# Titanic - Data cleaning and feature engineering"
   ]
  },
  {
   "cell_type": "code",
   "execution_count": 1,
   "id": "c2aad1bd-09e6-49fc-9966-5507570604aa",
   "metadata": {
    "papermill": {
     "duration": 2.838703,
     "end_time": "2023-06-27T07:22:19.131501",
     "exception": false,
     "start_time": "2023-06-27T07:22:16.292798",
     "status": "completed"
    },
    "tags": []
   },
   "outputs": [],
   "source": [
    "# Imports needed for the script\n",
    "import numpy as np\n",
    "import pandas as pd\n",
    "import re\n",
    "\n",
    "import matplotlib.pyplot as plt\n",
    "import seaborn as sns\n",
    "# %matplotlib widget\n",
    "%matplotlib inline\n",
    "\n",
    "import plotly.graph_objs as go\n",
    "import plotly.express as px\n",
    "from plotly.subplots import make_subplots\n",
    "import chart_studio.plotly as py\n",
    "import chart_studio.tools as tls\n",
    "\n",
    "# username = 'your_username'  # Replace with your Chart Studio username\n",
    "# api_key = 'your_api_key'  # Replace with your Chart Studio API key\n",
    "# # Set up authentication credentials\n",
    "# tls.set_credentials_file(username=username, api_key=api_key)\n",
    "\n",
    "\n",
    "from ipywidgets import interact\n",
    "\n",
    "from sklearn import tree\n",
    "from sklearn.metrics import accuracy_score\n",
    "from sklearn.model_selection import KFold"
   ]
  },
  {
   "cell_type": "markdown",
   "id": "798a42d7-4b80-43d8-b202-4156d61b4253",
   "metadata": {},
   "source": [
    "------------------"
   ]
  },
  {
   "cell_type": "markdown",
   "id": "ab70adda-442e-4c2a-85eb-abc97c10fc3d",
   "metadata": {
    "papermill": {
     "duration": 0.01373,
     "end_time": "2023-06-27T07:22:19.159945",
     "exception": false,
     "start_time": "2023-06-27T07:22:19.146215",
     "status": "completed"
    },
    "tags": []
   },
   "source": [
    "# Load and explore the data"
   ]
  },
  {
   "cell_type": "code",
   "execution_count": 2,
   "id": "c2aca4e7-2bb8-43da-bbdf-1c2b69c6497d",
   "metadata": {
    "papermill": {
     "duration": 0.088484,
     "end_time": "2023-06-27T07:22:19.26248",
     "exception": false,
     "start_time": "2023-06-27T07:22:19.173996",
     "status": "completed"
    },
    "tags": []
   },
   "outputs": [
    {
     "data": {
      "text/html": [
       "<div>\n",
       "<style scoped>\n",
       "    .dataframe tbody tr th:only-of-type {\n",
       "        vertical-align: middle;\n",
       "    }\n",
       "\n",
       "    .dataframe tbody tr th {\n",
       "        vertical-align: top;\n",
       "    }\n",
       "\n",
       "    .dataframe thead th {\n",
       "        text-align: right;\n",
       "    }\n",
       "</style>\n",
       "<table border=\"1\" class=\"dataframe\">\n",
       "  <thead>\n",
       "    <tr style=\"text-align: right;\">\n",
       "      <th></th>\n",
       "      <th>PassengerId</th>\n",
       "      <th>Survived</th>\n",
       "      <th>Pclass</th>\n",
       "      <th>Name</th>\n",
       "      <th>Sex</th>\n",
       "      <th>Age</th>\n",
       "      <th>SibSp</th>\n",
       "      <th>Parch</th>\n",
       "      <th>Ticket</th>\n",
       "      <th>Fare</th>\n",
       "      <th>Cabin</th>\n",
       "      <th>Embarked</th>\n",
       "    </tr>\n",
       "  </thead>\n",
       "  <tbody>\n",
       "    <tr>\n",
       "      <th>0</th>\n",
       "      <td>1</td>\n",
       "      <td>0.0</td>\n",
       "      <td>3</td>\n",
       "      <td>Braund, Mr. Owen Harris</td>\n",
       "      <td>male</td>\n",
       "      <td>22.0</td>\n",
       "      <td>1</td>\n",
       "      <td>0</td>\n",
       "      <td>A/5 21171</td>\n",
       "      <td>7.2500</td>\n",
       "      <td>NaN</td>\n",
       "      <td>S</td>\n",
       "    </tr>\n",
       "    <tr>\n",
       "      <th>1</th>\n",
       "      <td>2</td>\n",
       "      <td>1.0</td>\n",
       "      <td>1</td>\n",
       "      <td>Cumings, Mrs. John Bradley (Florence Briggs Th...</td>\n",
       "      <td>female</td>\n",
       "      <td>38.0</td>\n",
       "      <td>1</td>\n",
       "      <td>0</td>\n",
       "      <td>PC 17599</td>\n",
       "      <td>71.2833</td>\n",
       "      <td>C85</td>\n",
       "      <td>C</td>\n",
       "    </tr>\n",
       "    <tr>\n",
       "      <th>2</th>\n",
       "      <td>3</td>\n",
       "      <td>1.0</td>\n",
       "      <td>3</td>\n",
       "      <td>Heikkinen, Miss. Laina</td>\n",
       "      <td>female</td>\n",
       "      <td>26.0</td>\n",
       "      <td>0</td>\n",
       "      <td>0</td>\n",
       "      <td>STON/O2. 3101282</td>\n",
       "      <td>7.9250</td>\n",
       "      <td>NaN</td>\n",
       "      <td>S</td>\n",
       "    </tr>\n",
       "    <tr>\n",
       "      <th>3</th>\n",
       "      <td>4</td>\n",
       "      <td>1.0</td>\n",
       "      <td>1</td>\n",
       "      <td>Futrelle, Mrs. Jacques Heath (Lily May Peel)</td>\n",
       "      <td>female</td>\n",
       "      <td>35.0</td>\n",
       "      <td>1</td>\n",
       "      <td>0</td>\n",
       "      <td>113803</td>\n",
       "      <td>53.1000</td>\n",
       "      <td>C123</td>\n",
       "      <td>S</td>\n",
       "    </tr>\n",
       "    <tr>\n",
       "      <th>4</th>\n",
       "      <td>5</td>\n",
       "      <td>0.0</td>\n",
       "      <td>3</td>\n",
       "      <td>Allen, Mr. William Henry</td>\n",
       "      <td>male</td>\n",
       "      <td>35.0</td>\n",
       "      <td>0</td>\n",
       "      <td>0</td>\n",
       "      <td>373450</td>\n",
       "      <td>8.0500</td>\n",
       "      <td>NaN</td>\n",
       "      <td>S</td>\n",
       "    </tr>\n",
       "  </tbody>\n",
       "</table>\n",
       "</div>"
      ],
      "text/plain": [
       "   PassengerId  Survived  Pclass   \n",
       "0            1       0.0       3  \\\n",
       "1            2       1.0       1   \n",
       "2            3       1.0       3   \n",
       "3            4       1.0       1   \n",
       "4            5       0.0       3   \n",
       "\n",
       "                                                Name     Sex   Age  SibSp   \n",
       "0                            Braund, Mr. Owen Harris    male  22.0      1  \\\n",
       "1  Cumings, Mrs. John Bradley (Florence Briggs Th...  female  38.0      1   \n",
       "2                             Heikkinen, Miss. Laina  female  26.0      0   \n",
       "3       Futrelle, Mrs. Jacques Heath (Lily May Peel)  female  35.0      1   \n",
       "4                           Allen, Mr. William Henry    male  35.0      0   \n",
       "\n",
       "   Parch            Ticket     Fare Cabin Embarked  \n",
       "0      0         A/5 21171   7.2500   NaN        S  \n",
       "1      0          PC 17599  71.2833   C85        C  \n",
       "2      0  STON/O2. 3101282   7.9250   NaN        S  \n",
       "3      0            113803  53.1000  C123        S  \n",
       "4      0            373450   8.0500   NaN        S  "
      ]
     },
     "execution_count": 2,
     "metadata": {},
     "output_type": "execute_result"
    }
   ],
   "source": [
    "# Load the data\n",
    "train = pd.read_csv(\"titanic_datasets/train.csv\")\n",
    "test = pd.read_csv(\"titanic_datasets/test.csv\")\n",
    "\n",
    "# concatenate train and test in same dataframe to perform data cleaning and feature engineering n both parts.\n",
    "df = pd.concat([train, test], ignore_index = True, sort = False)\n",
    "df.head()"
   ]
  },
  {
   "cell_type": "markdown",
   "id": "fa98582a-900c-4846-b5b2-c7e5f57c603f",
   "metadata": {
    "papermill": {
     "duration": 0.013531,
     "end_time": "2023-06-27T07:22:19.290124",
     "exception": false,
     "start_time": "2023-06-27T07:22:19.276593",
     "status": "completed"
    },
    "tags": []
   },
   "source": [
    "A brief description of the variables in this dataset is presented below. For more detailed information consult the source at Kaggle: Titanic-Machine Learning from Disaster. These variables provide information about different aspects of the passengers on the Titanic, such as their demographics, family relationships, ticket details, and survival outcome.\n",
    "\n",
    "\n",
    "\n",
    "| Variable    | Description                                               | Comments                                           |\n",
    "|-------------|-----------------------------------------------------------|----------------------------------------------------|\n",
    "| PassengerId | Unique identifier for each passenger                      | Used in the kaggle submission                      |\n",
    "| Survived    | Survival status (0 = No, 1 = Yes)                         | Rows with NaNs used for test prediction for Kaggle |\n",
    "| Pclass      | Ticket class (1 = 1st class, 2 = 2nd class, 3 = 3rd class)|                                                    |\n",
    "| Name        | Passenger's name                                          | It containis the title                             |\n",
    "| Sex         | Passenger's sex:                                          | string \"male\" or \"female\"                          |\n",
    "| Age         | Passenger's age in years                                  |                                                    |\n",
    "| SibSp       | Number of siblings and/or spouses aboard the Titanic      |                                                    |\n",
    "| Parch       | Number of parents and/or children aboard the Titanic      |                                                    |\n",
    "| Ticket      | Ticket code,                                              | The companions have same ticket code               |\n",
    "| Fare        | Fare corresponding to the ticket code                     | Repeated for passengers with the same ticket code  |\n",
    "| Cabin       | Cabin label and number                                    | Some passengers have more than one cabin some missing|  | Embarked    | Port of embarkation                                       | (C = Cherbourg, Q = Queenstown, S = Southampton)   |\n",
    "\n",
    "\n",
    "Check the missing values and data types\n"
   ]
  },
  {
   "cell_type": "code",
   "execution_count": 3,
   "id": "83d1e7ba-194e-46d6-8004-ddef3cbcb5a4",
   "metadata": {
    "papermill": {
     "duration": 0.042858,
     "end_time": "2023-06-27T07:22:19.346756",
     "exception": false,
     "start_time": "2023-06-27T07:22:19.303898",
     "status": "completed"
    },
    "tags": []
   },
   "outputs": [
    {
     "name": "stdout",
     "output_type": "stream",
     "text": [
      "<class 'pandas.core.frame.DataFrame'>\n",
      "RangeIndex: 1309 entries, 0 to 1308\n",
      "Data columns (total 12 columns):\n",
      " #   Column       Non-Null Count  Dtype  \n",
      "---  ------       --------------  -----  \n",
      " 0   PassengerId  1309 non-null   int64  \n",
      " 1   Survived     891 non-null    float64\n",
      " 2   Pclass       1309 non-null   int64  \n",
      " 3   Name         1309 non-null   object \n",
      " 4   Sex          1309 non-null   object \n",
      " 5   Age          1046 non-null   float64\n",
      " 6   SibSp        1309 non-null   int64  \n",
      " 7   Parch        1309 non-null   int64  \n",
      " 8   Ticket       1309 non-null   object \n",
      " 9   Fare         1308 non-null   float64\n",
      " 10  Cabin        295 non-null    object \n",
      " 11  Embarked     1307 non-null   object \n",
      "dtypes: float64(3), int64(4), object(5)\n",
      "memory usage: 122.8+ KB\n",
      "Cabin          1014\n",
      "Survived        418\n",
      "Age             263\n",
      "Embarked          2\n",
      "Fare              1\n",
      "PassengerId       0\n",
      "Pclass            0\n",
      "Name              0\n",
      "Sex               0\n",
      "SibSp             0\n",
      "Parch             0\n",
      "Ticket            0\n",
      "dtype: int64\n"
     ]
    }
   ],
   "source": [
    "nan_counts = df.isna().sum().sort_values(ascending = False)\n",
    "summary = pd.concat([df.info(), nan_counts], axis=0)\n",
    "print(summary)"
   ]
  },
  {
   "cell_type": "markdown",
   "id": "7578d7e8-b62c-4e4c-842f-86d39b20d9f4",
   "metadata": {},
   "source": [
    "------------------------"
   ]
  },
  {
   "cell_type": "markdown",
   "id": "0b2ef9db-d900-416b-80c7-3255ec4795d1",
   "metadata": {
    "papermill": {
     "duration": 0.014119,
     "end_time": "2023-06-27T07:22:19.375285",
     "exception": false,
     "start_time": "2023-06-27T07:22:19.361166",
     "status": "completed"
    },
    "tags": []
   },
   "source": [
    "# Data processing steps\n",
    "\n",
    "* Map \"Sex\" to \"is_male\", to use this variable in correlation plots and in ML models.\n",
    "* Map 'Embarqued' to Embarqued_code{1,2,3}. reserve the zero for NaN.\n",
    "* Split the variable \"Ticket\" into \"Ticket_preffix\" and \"Ticket_n\"\n",
    "* Group the duplicated Ticket values and count the number of people that traveled together including friends, maids, and nannies, and create the variable \"Companions\".\n",
    "* Create the variable \"FamilySize\" by combining the variables \"SibSp\" and \"Parch\".\n",
    "* Extract the variable \"Title\" from the variable \"Name\" and categorize.\n",
    "* Map \"Fare\" to \"Fare_level\": {1,2,3,4,5,6,7,8,9,10}\n",
    "* The dirtiest variable 'Cabin' -> split it into ['Cabin_label', 'Cabin_n', 'n_of_Cabins'].\n",
    "* Map the variable \"Age\" into \"Age_group\""
   ]
  },
  {
   "cell_type": "markdown",
   "id": "eac15fec-f83d-4ed0-9fd7-298c1d2165a6",
   "metadata": {
    "papermill": {
     "duration": 0.013974,
     "end_time": "2023-06-27T07:22:19.403847",
     "exception": false,
     "start_time": "2023-06-27T07:22:19.389873",
     "status": "completed"
    },
    "tags": []
   },
   "source": [
    "## Sex\n",
    "Encode the variable \"Sex\" to \"Is_male\", 1 for male, 0 for female. This step is required because we plan to use scikit-learn decision tree-based ML algorithms and It requires the encoding of categorical variables (see scikit-learn 1.3.0: Decision tree)."
   ]
  },
  {
   "cell_type": "code",
   "execution_count": 4,
   "id": "db43d69b-da47-425c-a50b-57dbcac54dce",
   "metadata": {
    "papermill": {
     "duration": 0.024612,
     "end_time": "2023-06-27T07:22:19.443077",
     "exception": false,
     "start_time": "2023-06-27T07:22:19.418465",
     "status": "completed"
    },
    "tags": []
   },
   "outputs": [],
   "source": [
    "# Mapping Sex bolean\n",
    "df['Is_male'] = df['Sex'].map( {'female': 0, 'male': 1} ).astype(int)"
   ]
  },
  {
   "cell_type": "markdown",
   "id": "b06c0a7e-b752-4c10-8552-bb8aac8b89d0",
   "metadata": {
    "papermill": {
     "duration": 0.013771,
     "end_time": "2023-06-27T07:22:19.471347",
     "exception": false,
     "start_time": "2023-06-27T07:22:19.457576",
     "status": "completed"
    },
    "tags": []
   },
   "source": [
    "## Mapping Embarked\n",
    "\n",
    "Clean the variable for the port of embarkation, \"Embarked\". First, we fill only two NaN values with the true value we found on Google, then encode the variable to numerical values. The values C = Cherbourg, Q = Queenstown, and S = Southampton, will be mapped to 1 = C, 2 = Q, and 3 = S."
   ]
  },
  {
   "cell_type": "code",
   "execution_count": 5,
   "id": "3e72ed03-153b-4fa0-9c8b-0c09e94b28ee",
   "metadata": {
    "papermill": {
     "duration": 0.036722,
     "end_time": "2023-06-27T07:22:19.522228",
     "exception": false,
     "start_time": "2023-06-27T07:22:19.485506",
     "status": "completed"
    },
    "tags": []
   },
   "outputs": [
    {
     "data": {
      "text/html": [
       "<div>\n",
       "<style scoped>\n",
       "    .dataframe tbody tr th:only-of-type {\n",
       "        vertical-align: middle;\n",
       "    }\n",
       "\n",
       "    .dataframe tbody tr th {\n",
       "        vertical-align: top;\n",
       "    }\n",
       "\n",
       "    .dataframe thead th {\n",
       "        text-align: right;\n",
       "    }\n",
       "</style>\n",
       "<table border=\"1\" class=\"dataframe\">\n",
       "  <thead>\n",
       "    <tr style=\"text-align: right;\">\n",
       "      <th></th>\n",
       "      <th>PassengerId</th>\n",
       "      <th>Survived</th>\n",
       "      <th>Pclass</th>\n",
       "      <th>Name</th>\n",
       "      <th>Sex</th>\n",
       "      <th>Age</th>\n",
       "      <th>SibSp</th>\n",
       "      <th>Parch</th>\n",
       "      <th>Ticket</th>\n",
       "      <th>Fare</th>\n",
       "      <th>Cabin</th>\n",
       "      <th>Embarked</th>\n",
       "      <th>Is_male</th>\n",
       "    </tr>\n",
       "  </thead>\n",
       "  <tbody>\n",
       "    <tr>\n",
       "      <th>61</th>\n",
       "      <td>62</td>\n",
       "      <td>1.0</td>\n",
       "      <td>1</td>\n",
       "      <td>Icard, Miss. Amelie</td>\n",
       "      <td>female</td>\n",
       "      <td>38.0</td>\n",
       "      <td>0</td>\n",
       "      <td>0</td>\n",
       "      <td>113572</td>\n",
       "      <td>80.0</td>\n",
       "      <td>B28</td>\n",
       "      <td>NaN</td>\n",
       "      <td>0</td>\n",
       "    </tr>\n",
       "    <tr>\n",
       "      <th>829</th>\n",
       "      <td>830</td>\n",
       "      <td>1.0</td>\n",
       "      <td>1</td>\n",
       "      <td>Stone, Mrs. George Nelson (Martha Evelyn)</td>\n",
       "      <td>female</td>\n",
       "      <td>62.0</td>\n",
       "      <td>0</td>\n",
       "      <td>0</td>\n",
       "      <td>113572</td>\n",
       "      <td>80.0</td>\n",
       "      <td>B28</td>\n",
       "      <td>NaN</td>\n",
       "      <td>0</td>\n",
       "    </tr>\n",
       "  </tbody>\n",
       "</table>\n",
       "</div>"
      ],
      "text/plain": [
       "     PassengerId  Survived  Pclass                                       Name   \n",
       "61            62       1.0       1                        Icard, Miss. Amelie  \\\n",
       "829          830       1.0       1  Stone, Mrs. George Nelson (Martha Evelyn)   \n",
       "\n",
       "        Sex   Age  SibSp  Parch  Ticket  Fare Cabin Embarked  Is_male  \n",
       "61   female  38.0      0      0  113572  80.0   B28      NaN        0  \n",
       "829  female  62.0      0      0  113572  80.0   B28      NaN        0  "
      ]
     },
     "execution_count": 5,
     "metadata": {},
     "output_type": "execute_result"
    }
   ],
   "source": [
    "# Check the entries with NaN vales.\n",
    "df.loc[df['Embarked'].isna(),:]"
   ]
  },
  {
   "cell_type": "markdown",
   "id": "8739d687-9021-4201-9818-062136f9c8c4",
   "metadata": {
    "papermill": {
     "duration": 0.014758,
     "end_time": "2023-06-27T07:22:19.55151",
     "exception": false,
     "start_time": "2023-06-27T07:22:19.536752",
     "status": "completed"
    },
    "tags": []
   },
   "source": [
    "We see both passengers share the variable values, Sex = female, Pclass = 1, they were in the same Cabin = B28, and the Ticket number is the same Ticket = 113572. Do you think it is a coincidence? I think Not! If we try to see the number of passengers with these characteristics will guess the Embarked being either C or S. Alternatively we can google search for it and find that: Mrs. Stone boarded the Titanic in Southampton on 10 April 1912 and was traveling in first class with her maid Amelie Icard. She occupied cabin B-28.([encyclopedia titanica](https://www.encyclopedia-titanica.org/titanic-survivor/martha-evelyn-stone.html))"
   ]
  },
  {
   "cell_type": "code",
   "execution_count": 6,
   "id": "da20192b-2c26-4282-887a-7b6c9b5252e1",
   "metadata": {
    "papermill": {
     "duration": 0.030278,
     "end_time": "2023-06-27T07:22:19.596568",
     "exception": false,
     "start_time": "2023-06-27T07:22:19.56629",
     "status": "completed"
    },
    "tags": []
   },
   "outputs": [
    {
     "data": {
      "text/plain": [
       "Embarked\n",
       "C      71\n",
       "S      69\n",
       "NaN     2\n",
       "Q       2\n",
       "Name: count, dtype: int64"
      ]
     },
     "execution_count": 6,
     "metadata": {},
     "output_type": "execute_result"
    }
   ],
   "source": [
    "# filter and count the most frequent values\n",
    "df.loc[(df['Sex'] == 'female') & (df['Pclass'] == 1), 'Embarked'].value_counts(dropna= False)"
   ]
  },
  {
   "cell_type": "code",
   "execution_count": 7,
   "id": "62d845d9-c57d-41af-85ae-791e1745aae2",
   "metadata": {
    "papermill": {
     "duration": 0.025688,
     "end_time": "2023-06-27T07:22:19.637048",
     "exception": false,
     "start_time": "2023-06-27T07:22:19.61136",
     "status": "completed"
    },
    "tags": []
   },
   "outputs": [],
   "source": [
    "# Fill the NaN and map Embarked to numerical codes\n",
    "df.loc[df['Embarked'].isna(), 'Embarked'] = 'S'  # (Encyclopedia titanica)\n",
    "df['Embarked_code'] = df['Embarked'].map( {'C': 1, 'Q': 2, 'S': 3} ).astype(int)"
   ]
  },
  {
   "cell_type": "markdown",
   "id": "06cbfc3d-a6bf-4737-8c6f-5e3186fe6980",
   "metadata": {
    "papermill": {
     "duration": 0.015878,
     "end_time": "2023-06-27T07:22:19.668364",
     "exception": false,
     "start_time": "2023-06-27T07:22:19.652486",
     "status": "completed"
    },
    "tags": []
   },
   "source": [
    "## Split the variable Ticket\n",
    "\n",
    "Split the \"Ticket\" into the variables \"Ticket_preffi\" and \"Ticket_number\""
   ]
  },
  {
   "cell_type": "code",
   "execution_count": 8,
   "id": "ca620cd9-be68-4544-bb16-b57656b75d40",
   "metadata": {
    "papermill": {
     "duration": 0.075444,
     "end_time": "2023-06-27T07:22:19.758369",
     "exception": false,
     "start_time": "2023-06-27T07:22:19.682925",
     "status": "completed"
    },
    "tags": []
   },
   "outputs": [
    {
     "data": {
      "text/plain": [
       "array(['A/5', 'PC', 'STON/O2.', 'blanck', 'PP', 'A/5.', 'C.A.', 'A./5.',\n",
       "       'SC/Paris', 'S.C./A.4.', 'A/4.', 'CA', 'S.P.', 'S.O.C.', 'SO/C',\n",
       "       'W./C.', 'SOTON/OQ', 'W.E.P.', 'A4.', 'C', 'SOTON/O.Q.',\n",
       "       'SC/PARIS', 'S.O.P.', 'A.5.', 'Fa', 'CA.', 'F.C.C.', 'W/C',\n",
       "       'SW/PP', 'SCO/W', 'P/PP', 'SC', 'SC/AH', 'A/S', 'SC/AHBasle',\n",
       "       'A/4', 'WE/P', 'S.W./PP', 'S.O./P.P.', 'F.C.', 'SOTON/O2',\n",
       "       'S.C./PARIS', 'C.A./SOTON', 'SC/A.3', 'STON/OQ.', 'SC/A4', 'AQ/4',\n",
       "       'A.2.', 'LP', 'AQ/3.'], dtype=object)"
      ]
     },
     "execution_count": 8,
     "metadata": {},
     "output_type": "execute_result"
    }
   ],
   "source": [
    "# split the column 'Ticket'\n",
    "Ticket_split = []\n",
    "Ticket_len = []\n",
    "for i in df['Ticket'].index:\n",
    "    splitted = df.loc[i,'Ticket'].split(' ')\n",
    "    Ticket_split.append(splitted)\n",
    "    length = len(splitted)\n",
    "    Ticket_len.append(length)\n",
    "    \n",
    "df['Ticket_split'] = Ticket_split\n",
    "df['Ticket_len'] = Ticket_len\n",
    "\n",
    "# df[['Ticket_len']].value_counts()\n",
    "# df.loc[df['Ticket_len'] > 2, :] We can see tome typo errors.\n",
    "\n",
    "# Create columns Ticket_preffix and Ticket_number\n",
    "ticket_preffix = []\n",
    "ticket_number = []\n",
    "for i in df['Ticket'].index:\n",
    "    ticket_parts = df.loc[i, 'Ticket_split']\n",
    "    number = ticket_parts[-1]\n",
    "    ticket_number.append(number)\n",
    "    length = df.loc[i, 'Ticket_len'].item()\n",
    "    if length > 1:\n",
    "        preffix = ''.join(ticket_parts[0:-1])\n",
    "        ticket_preffix.append(preffix)\n",
    "    else:\n",
    "        ticket_preffix.append('blanck')\n",
    "        \n",
    "df['Ticket_preffix'] = ticket_preffix\n",
    "df['Ticket_number'] = ticket_number\n",
    "# drop unnecessary columns created\n",
    "df.drop(columns=['Ticket_split', 'Ticket_len'], inplace=True)\n",
    "\n",
    "df.Ticket_preffix.unique()"
   ]
  },
  {
   "cell_type": "markdown",
   "id": "2f5d4b2b-d566-4dfc-8e2a-5edf9e876da3",
   "metadata": {},
   "source": [
    "We can visualize the variety of ticket prefix values and try to find a relationship with the port of embarkation."
   ]
  },
  {
   "cell_type": "code",
   "execution_count": 9,
   "id": "0ede64d5-3add-4172-aeb6-eb08603ce939",
   "metadata": {
    "papermill": {
     "duration": 0.045,
     "end_time": "2023-06-27T07:22:19.81863",
     "exception": false,
     "start_time": "2023-06-27T07:22:19.77363",
     "status": "completed"
    },
    "scrolled": true,
    "tags": []
   },
   "outputs": [
    {
     "name": "stdout",
     "output_type": "stream",
     "text": [
      "                         Survived  Non-Survived  Count\n",
      "Ticket_preffix Embarked                               \n",
      "A./5.          S              0.0           2.0      3\n",
      "A.2.           S              0.0           0.0      1\n",
      "A.5.           S              0.0           2.0      3\n",
      "A/4            S              0.0           3.0      6\n",
      "A/4.           S              0.0           3.0      3\n",
      "A/5            S              1.0           9.0     12\n",
      "A/5.           Q              0.0           1.0      1\n",
      "               S              1.0           5.0      9\n",
      "A/S            S              0.0           1.0      1\n",
      "A4.            S              0.0           1.0      1\n",
      "AQ/3.          Q              0.0           0.0      1\n",
      "AQ/4           Q              0.0           0.0      1\n",
      "C              S              2.0           3.0      8\n",
      "C.A.           C              0.0           0.0      1\n",
      "               S             13.0          14.0     45\n",
      "C.A./SOTON     S              0.0           1.0      1\n",
      "CA             S              0.0           6.0     10\n",
      "CA.            S              1.0           7.0     12\n",
      "F.C.           C              0.0           0.0      1\n",
      "               S              0.0           1.0      2\n",
      "F.C.C.         S              4.0           1.0      9\n",
      "Fa             S              0.0           1.0      1\n",
      "LP             S              0.0           0.0      1\n",
      "P/PP           C              1.0           1.0      2\n",
      "PC             C             29.0          17.0     72\n",
      "               S             10.0           4.0     20\n",
      "PP             S              2.0           1.0      4\n",
      "S.C./A.4.      S              0.0           1.0      1\n",
      "S.C./PARIS     C              1.0           1.0      3\n",
      "S.O./P.P.      S              0.0           3.0      7\n",
      "S.O.C.         S              0.0           5.0      7\n",
      "S.O.P.         S              0.0           1.0      1\n",
      "S.P.           S              0.0           1.0      1\n",
      "S.W./PP        S              1.0           0.0      1\n",
      "SC             C              1.0           0.0      1\n",
      "               S              0.0           0.0      1\n",
      "SC/A.3         C              0.0           0.0      1\n",
      "SC/A4          S              0.0           0.0      1\n",
      "SC/AH          S              1.0           1.0      4\n",
      "SC/AHBasle     C              1.0           0.0      1\n",
      "SC/PARIS       C              2.0           3.0     10\n",
      "               S              0.0           0.0      1\n",
      "SC/Paris       C              2.0           2.0      5\n",
      "SCO/W          S              0.0           1.0      1\n",
      "SO/C           S              1.0           0.0      1\n",
      "SOTON/O.Q.     S              1.0           7.0     16\n",
      "SOTON/O2       S              0.0           2.0      3\n",
      "SOTON/OQ       S              1.0           6.0      8\n",
      "STON/O2.       S              8.0          10.0     21\n",
      "STON/OQ.       S              0.0           0.0      1\n",
      "SW/PP          S              1.0           0.0      1\n",
      "W./C.          S              1.0           8.0     14\n",
      "W.E.P.         S              0.0           1.0      2\n",
      "W/C            S              0.0           1.0      1\n",
      "WE/P           S              1.0           1.0      2\n",
      "blanck         C             56.0          51.0    173\n",
      "               Q             30.0          46.0    120\n",
      "               S            169.0         313.0    668\n"
     ]
    }
   ],
   "source": [
    "df_grouped = df.groupby(['Ticket_preffix', 'Embarked']).agg({'Survived': ['sum', lambda x: x.count() - x.sum()]})\n",
    "df_grouped.columns = ['Survived', 'Non-Survived']\n",
    "df_grouped['Count'] = df.groupby(['Ticket_preffix', 'Embarked']).size()\n",
    "print(df_grouped)"
   ]
  },
  {
   "cell_type": "markdown",
   "id": "1810ab80-27a3-4903-97de-d526fa3e902a",
   "metadata": {},
   "source": [
    "The column \"Tiket_prefix\" has some typo errors and seems to be related to the 'Embarked' info. Most of the values are blank and maybe it doesn't worth analyzing the survival probability with a ML model."
   ]
  },
  {
   "cell_type": "markdown",
   "id": "e8db17b3-9f69-44e4-ba60-55415ed3ab03",
   "metadata": {
    "papermill": {
     "duration": 0.014461,
     "end_time": "2023-06-27T07:22:19.848443",
     "exception": false,
     "start_time": "2023-06-27T07:22:19.833982",
     "status": "completed"
    },
    "tags": []
   },
   "source": [
    "## Companions\n",
    "Moreover, we already observed that the variable \"Ticket_number\" has some duplicated entries. Some passengers share the ticket number because they are together. They can have a relationship with an employee or service like a maid or a nanny, or they can be close friends. These relationships were not all captured in the variables \"SibSp\" and \"Parch\". See, for example, the case of Mrs. Stone boarded that was traveling with her maid Amelie Icard and both survived.([encyclopedia titanica](https://www.encyclopedia-titanica.org/titanic-survivor/martha-evelyn-stone.html)).\n",
    "\n",
    "We can extract implicit information from the duplicated values in the variable \"Ticket\" and create a new variable to describe it. Here we engineer the new variable \"Companions\" describing the number of companions or fellow passengers for each individual. Maybe this number makes some impact on the survival probability when we use ML algorithm to predict the \"Survived\" values in the test dataset.\n",
    "\n"
   ]
  },
  {
   "cell_type": "code",
   "execution_count": 10,
   "id": "1077e9f2-c37c-4682-abcb-a904dc3f79be",
   "metadata": {
    "papermill": {
     "duration": 0.027811,
     "end_time": "2023-06-27T07:22:19.891513",
     "exception": false,
     "start_time": "2023-06-27T07:22:19.863702",
     "status": "completed"
    },
    "tags": []
   },
   "outputs": [
    {
     "name": "stdout",
     "output_type": "stream",
     "text": [
      "Number of duplicated ticket values: 596\n",
      "Number of non-duplicated ticket values: 713\n"
     ]
    }
   ],
   "source": [
    "n_alone , n_duplicates = df['Ticket'].duplicated(keep=False).astype(int).value_counts()\n",
    "\n",
    "print(\"Number of duplicated ticket values:\", n_duplicates)\n",
    "print(\"Number of non-duplicated ticket values:\", n_alone)"
   ]
  },
  {
   "cell_type": "markdown",
   "id": "8818c0e3-dfdc-476a-b26e-48deaec706c2",
   "metadata": {},
   "source": [
    "We can check the distribution of the number of companions."
   ]
  },
  {
   "cell_type": "code",
   "execution_count": 11,
   "id": "3bc14cfb-2054-4a90-bb0b-997150d144a9",
   "metadata": {
    "papermill": {
     "duration": 0.032743,
     "end_time": "2023-06-27T07:22:19.940183",
     "exception": false,
     "start_time": "2023-06-27T07:22:19.90744",
     "status": "completed"
    },
    "tags": []
   },
   "outputs": [
    {
     "data": {
      "text/plain": [
       "Companions\n",
       "0     713\n",
       "1     264\n",
       "2     147\n",
       "3      64\n",
       "4      35\n",
       "6      35\n",
       "5      24\n",
       "7      16\n",
       "10     11\n",
       "Name: count, dtype: int64"
      ]
     },
     "execution_count": 11,
     "metadata": {},
     "output_type": "execute_result"
    }
   ],
   "source": [
    "df['Companions'] = df['Ticket'].duplicated(keep=False).astype(int) * df.groupby('Ticket')['Ticket'].transform('count') -1 \n",
    "df.loc[df['Companions'] == -1, 'Companions'] = 0\n",
    "df['Companions'].value_counts()"
   ]
  },
  {
   "cell_type": "markdown",
   "id": "d71e9235-1d5f-467a-8607-55329922fb3f",
   "metadata": {
    "papermill": {
     "duration": 0.01516,
     "end_time": "2023-06-27T07:22:19.971216",
     "exception": false,
     "start_time": "2023-06-27T07:22:19.956056",
     "status": "completed"
    },
    "tags": []
   },
   "source": [
    "## Family size\n",
    "\n",
    "The new variable \"Family size\" is created with the sum of variables \"SibSp\" and \"Parch\" to describe the family structure aboard for each passenger. We are creating a correlated variable why? We can investigate the frequency of \"Survived\" as a function of the total number of family members. Moreover, tree-based models have a feature selection internal algorithm that chose the most relevant variables to the prediction of the target variable. Maybe the variable \"Family size\" can be more important than the variables \"SibSp\" and \"Parch\"."
   ]
  },
  {
   "cell_type": "code",
   "execution_count": 12,
   "id": "75d62475-f29a-440c-8f85-57b65d179e76",
   "metadata": {
    "papermill": {
     "duration": 0.037528,
     "end_time": "2023-06-27T07:22:20.024398",
     "exception": false,
     "start_time": "2023-06-27T07:22:19.98687",
     "status": "completed"
    },
    "tags": []
   },
   "outputs": [
    {
     "name": "stdout",
     "output_type": "stream",
     "text": [
      "   FamilySize     SibSp     Parch  Survived\n",
      "7           7  4.000000  3.000000  0.000000\n",
      "8          10  6.727273  3.272727  0.000000\n",
      "5           5  2.800000  2.200000  0.136364\n",
      "4           4  2.000000  2.000000  0.200000\n",
      "0           0  0.000000  0.000000  0.303538\n",
      "6           6  3.250000  2.750000  0.333333\n",
      "1           1  0.778723  0.221277  0.552795\n",
      "2           2  0.893082  1.106918  0.578431\n",
      "3           3  1.302326  1.697674  0.724138\n"
     ]
    }
   ],
   "source": [
    "df['FamilySize'] = df['SibSp'] + df['Parch']\n",
    "print(df[['SibSp','Parch','FamilySize', 'Survived']].groupby(['FamilySize'], as_index=False).mean().sort_values(by = 'Survived'))"
   ]
  },
  {
   "cell_type": "markdown",
   "id": "3ba2b59b-229e-47f7-810c-9be8002d0f56",
   "metadata": {
    "papermill": {
     "duration": 0.014589,
     "end_time": "2023-06-27T07:22:20.054761",
     "exception": false,
     "start_time": "2023-06-27T07:22:20.040172",
     "status": "completed"
    },
    "tags": []
   },
   "source": [
    "## The new variable  \"Title\"\n",
    "Now we will extract the passenger title information from the variable \"Name\". We can create the feature \"Title\" by extracting from the column \"Name\" the titles: Mr. Miss. Mrs. Dr. and others.(see also [Sina \"Tinatic best working classifier\"](https://www.kaggle.com/code/sinakhorami/titanic-best-working-classifier)). "
   ]
  },
  {
   "cell_type": "code",
   "execution_count": 13,
   "id": "fcf1a320-6209-4402-9e9a-9cac9abaa908",
   "metadata": {
    "papermill": {
     "duration": 0.040993,
     "end_time": "2023-06-27T07:22:20.110696",
     "exception": false,
     "start_time": "2023-06-27T07:22:20.069703",
     "status": "completed"
    },
    "tags": []
   },
   "outputs": [
    {
     "name": "stdout",
     "output_type": "stream",
     "text": [
      "                 Survived  Non-Survived  Count\n",
      "Title    Sex                                  \n",
      "Capt     male         0.0           1.0      1\n",
      "Col      male         1.0           1.0      4\n",
      "Countess female       1.0           0.0      1\n",
      "Don      male         0.0           1.0      1\n",
      "Dona     female       0.0           0.0      1\n",
      "Dr       female       1.0           0.0      1\n",
      "         male         2.0           4.0      7\n",
      "Jonkheer male         0.0           1.0      1\n",
      "Lady     female       1.0           0.0      1\n",
      "Major    male         1.0           1.0      2\n",
      "Master   male        23.0          17.0     61\n",
      "Miss     female     127.0          55.0    260\n",
      "Mlle     female       2.0           0.0      2\n",
      "Mme      female       1.0           0.0      1\n",
      "Mr       male        81.0         436.0    757\n",
      "Mrs      female      99.0          26.0    197\n",
      "Ms       female       1.0           0.0      2\n",
      "Rev      male         0.0           6.0      8\n",
      "Sir      male         1.0           0.0      1\n"
     ]
    }
   ],
   "source": [
    "# get the 'Title'\n",
    "def get_title(name):\n",
    "\ttitle_search = re.search(' ([A-Za-z]+)\\.', name)\n",
    "\t# If the title exists, extract and return it.\n",
    "\tif title_search:\n",
    "\t\treturn title_search.group(1)\n",
    "\treturn \"\"\n",
    "\n",
    "df['Title'] = df['Name'].apply(get_title)\n",
    "\n",
    "df_grouped = df.groupby(['Title', 'Sex']).agg({'Survived': ['sum', lambda x: x.count() - x.sum()]})\n",
    "df_grouped.columns = ['Survived', 'Non-Survived']\n",
    "df_grouped['Count'] = df.groupby(['Title', 'Sex']).size()\n",
    "print(df_grouped)"
   ]
  },
  {
   "cell_type": "markdown",
   "id": "0c500155-6b00-4f95-b56d-b9771f967256",
   "metadata": {
    "papermill": {
     "duration": 0.01475,
     "end_time": "2023-06-27T07:22:20.141459",
     "exception": false,
     "start_time": "2023-06-27T07:22:20.126709",
     "status": "completed"
    },
    "tags": []
   },
   "source": [
    "clean and categorize the variable \"Title\", then check the counts of survived and non-survived for each categorized title."
   ]
  },
  {
   "cell_type": "code",
   "execution_count": 14,
   "id": "c0bbb1c0-7b61-4f83-ac3a-32aa01502c52",
   "metadata": {
    "papermill": {
     "duration": 0.040065,
     "end_time": "2023-06-27T07:22:20.197318",
     "exception": false,
     "start_time": "2023-06-27T07:22:20.157253",
     "status": "completed"
    },
    "tags": []
   },
   "outputs": [
    {
     "name": "stdout",
     "output_type": "stream",
     "text": [
      "               Survived  Non-Survived  Count  Survival Rate\n",
      "Title  Sex                                                 \n",
      "noble  female       3.0           0.0      4       1.000000\n",
      "Mrs    female     101.0          26.0    200       0.795276\n",
      "Miss   female     129.0          55.0    262       0.701087\n",
      "Master male        23.0          17.0     61       0.575000\n",
      "noble  male         5.0          15.0     25       0.250000\n",
      "Mr     male        81.0         436.0    757       0.156673\n"
     ]
    }
   ],
   "source": [
    "# Clean the varianle Title.\n",
    "df['Title'] = df['Title'].replace(['Lady', 'Countess','Capt', 'Col',\n",
    " \t'Don', 'Dr', 'Major', 'Rev', 'Sir', 'Jonkheer', 'Dona'], 'noble')\n",
    "df['Title'] = df['Title'].replace('Mlle', 'Miss')\n",
    "df['Title'] = df['Title'].replace('Ms', 'Mrs')\n",
    "df['Title'] = df['Title'].replace('Mme', 'Mrs')\n",
    "\n",
    "# Check the survival rate for the title cathegories obtained\n",
    "df_grouped = df.groupby(['Title', 'Sex']).agg({'Survived': ['sum', lambda x: x.count() - x.sum()]})\n",
    "df_grouped.columns = ['Survived', 'Non-Survived']\n",
    "df_grouped['Count'] = df.groupby(['Title', 'Sex']).size()\n",
    "# Calculate the survived/non-survived rate\n",
    "df_grouped['Survival Rate'] = df_grouped['Survived'] / (df_grouped['Survived'] + df_grouped['Non-Survived'])\n",
    "# Order the DataFrame by the survival rate in descending order\n",
    "df_grouped = df_grouped.sort_values('Survival Rate', ascending=False)\n",
    "\n",
    "print(df_grouped)"
   ]
  },
  {
   "cell_type": "markdown",
   "id": "57414c82-cbcc-4f72-989c-acbbeb42cb98",
   "metadata": {
    "papermill": {
     "duration": 0.014731,
     "end_time": "2023-06-27T07:22:20.227519",
     "exception": false,
     "start_time": "2023-06-27T07:22:20.212788",
     "status": "completed"
    },
    "tags": []
   },
   "source": [
    "We can see that being a noble made a very difference in the Titanic. The other titles reflect the sex and age of the passenger. We can observe that the survival rate for a man with the title master is better than those with the title Mr, although, it can be interpreted by age whereas younger man has a better chance to survive. If we compare the survival rate of women, the passengers with the title Miss. have a lower survival chance when compared to the women with the title Mrs. whereas it can indicate the status of the woman as married or not can make a difference. But we all agree that the information about the family and the age has its own features to describe. The exclusive information we can obtain from the title feature is if the passenger owns a noble title or not."
   ]
  },
  {
   "cell_type": "code",
   "execution_count": 15,
   "id": "9c31f07f-7e5f-4883-bcf1-8a600abc5c99",
   "metadata": {
    "papermill": {
     "duration": 0.027769,
     "end_time": "2023-06-27T07:22:20.269914",
     "exception": false,
     "start_time": "2023-06-27T07:22:20.242145",
     "status": "completed"
    },
    "tags": []
   },
   "outputs": [
    {
     "data": {
      "text/plain": [
       "is_noble\n",
       "0    1280\n",
       "1      29\n",
       "Name: count, dtype: int64"
      ]
     },
     "execution_count": 15,
     "metadata": {},
     "output_type": "execute_result"
    }
   ],
   "source": [
    "df['is_noble'] = df['Title'].apply(lambda x: 1  if x =='noble'  else 0)\n",
    "df['is_noble'].value_counts()"
   ]
  },
  {
   "cell_type": "markdown",
   "id": "d9256200-bcb7-407a-9e9a-e0cd1a40d444",
   "metadata": {
    "papermill": {
     "duration": 0.015144,
     "end_time": "2023-06-27T07:22:20.301229",
     "exception": false,
     "start_time": "2023-06-27T07:22:20.286085",
     "status": "completed"
    },
    "tags": []
   },
   "source": [
    "## Map the variable \"Fare\"\n",
    "\n",
    "We can substitute the \"Fare\" missing value (there is only one) with the median value. To be fair we will substitute the missing fare value by the median of the fare values for the sex = male and Pclass = 3."
   ]
  },
  {
   "cell_type": "code",
   "execution_count": 16,
   "id": "7e36043a-f65e-462c-81fc-32516ef86586",
   "metadata": {
    "papermill": {
     "duration": 0.036169,
     "end_time": "2023-06-27T07:22:20.35368",
     "exception": false,
     "start_time": "2023-06-27T07:22:20.317511",
     "status": "completed"
    },
    "tags": []
   },
   "outputs": [
    {
     "data": {
      "text/html": [
       "<div>\n",
       "<style scoped>\n",
       "    .dataframe tbody tr th:only-of-type {\n",
       "        vertical-align: middle;\n",
       "    }\n",
       "\n",
       "    .dataframe tbody tr th {\n",
       "        vertical-align: top;\n",
       "    }\n",
       "\n",
       "    .dataframe thead th {\n",
       "        text-align: right;\n",
       "    }\n",
       "</style>\n",
       "<table border=\"1\" class=\"dataframe\">\n",
       "  <thead>\n",
       "    <tr style=\"text-align: right;\">\n",
       "      <th></th>\n",
       "      <th>PassengerId</th>\n",
       "      <th>Survived</th>\n",
       "      <th>Pclass</th>\n",
       "      <th>Name</th>\n",
       "      <th>Sex</th>\n",
       "      <th>Age</th>\n",
       "      <th>SibSp</th>\n",
       "      <th>Parch</th>\n",
       "      <th>Ticket</th>\n",
       "      <th>Fare</th>\n",
       "      <th>Cabin</th>\n",
       "      <th>Embarked</th>\n",
       "      <th>Is_male</th>\n",
       "      <th>Embarked_code</th>\n",
       "      <th>Ticket_preffix</th>\n",
       "      <th>Ticket_number</th>\n",
       "      <th>Companions</th>\n",
       "      <th>FamilySize</th>\n",
       "      <th>Title</th>\n",
       "      <th>is_noble</th>\n",
       "    </tr>\n",
       "  </thead>\n",
       "  <tbody>\n",
       "    <tr>\n",
       "      <th>1043</th>\n",
       "      <td>1044</td>\n",
       "      <td>NaN</td>\n",
       "      <td>3</td>\n",
       "      <td>Storey, Mr. Thomas</td>\n",
       "      <td>male</td>\n",
       "      <td>60.5</td>\n",
       "      <td>0</td>\n",
       "      <td>0</td>\n",
       "      <td>3701</td>\n",
       "      <td>NaN</td>\n",
       "      <td>NaN</td>\n",
       "      <td>S</td>\n",
       "      <td>1</td>\n",
       "      <td>3</td>\n",
       "      <td>blanck</td>\n",
       "      <td>3701</td>\n",
       "      <td>0</td>\n",
       "      <td>0</td>\n",
       "      <td>Mr</td>\n",
       "      <td>0</td>\n",
       "    </tr>\n",
       "  </tbody>\n",
       "</table>\n",
       "</div>"
      ],
      "text/plain": [
       "      PassengerId  Survived  Pclass                Name   Sex   Age  SibSp   \n",
       "1043         1044       NaN       3  Storey, Mr. Thomas  male  60.5      0  \\\n",
       "\n",
       "      Parch Ticket  Fare Cabin Embarked  Is_male  Embarked_code   \n",
       "1043      0   3701   NaN   NaN        S        1              3  \\\n",
       "\n",
       "     Ticket_preffix Ticket_number  Companions  FamilySize Title  is_noble  \n",
       "1043         blanck          3701           0           0    Mr         0  "
      ]
     },
     "execution_count": 16,
     "metadata": {},
     "output_type": "execute_result"
    }
   ],
   "source": [
    "df.loc[df['Fare'].isna(),:]"
   ]
  },
  {
   "cell_type": "code",
   "execution_count": 17,
   "id": "694496d9-fa13-4544-8dc2-6264b6761e6e",
   "metadata": {
    "papermill": {
     "duration": 0.033578,
     "end_time": "2023-06-27T07:22:20.40288",
     "exception": false,
     "start_time": "2023-06-27T07:22:20.369302",
     "status": "completed"
    },
    "tags": []
   },
   "outputs": [
    {
     "name": "stdout",
     "output_type": "stream",
     "text": [
      "medium Fare for Sex = male and Pclass=3:  7.8958\n"
     ]
    }
   ],
   "source": [
    "# fill with the median Fare for the Pclass = 3 and Sex= male.\n",
    "Fare_Pclass3_male = df.loc[(df['Pclass'] == 3) & (df['Sex'] == 'male'), 'Fare'].median()\n",
    "df.loc[df['PassengerId'] == 1044, 'Fare'] = df.loc[(df['Pclass'] == 3) & (df['Sex'] == 'male'), 'Fare'].median()\n",
    "print(\"medium Fare for Sex = male and Pclass=3: \", Fare_Pclass3_male)"
   ]
  },
  {
   "cell_type": "markdown",
   "id": "154cb64b-38f0-40b0-a6dd-a4e3c783f209",
   "metadata": {},
   "source": [
    "We can categorize the Fare in groups of equal Fare value ranges or levels. If we categorize it using interquartile, the distribution of the bins returns a weird representation because the variable \"Fare\" is not continuous."
   ]
  },
  {
   "cell_type": "code",
   "execution_count": 18,
   "id": "6687b275-8d56-4a2e-882e-409d60d18992",
   "metadata": {
    "papermill": {
     "duration": 0.040536,
     "end_time": "2023-06-27T07:22:20.459945",
     "exception": false,
     "start_time": "2023-06-27T07:22:20.419409",
     "status": "completed"
    },
    "tags": []
   },
   "outputs": [
    {
     "data": {
      "text/html": [
       "<div>\n",
       "<style scoped>\n",
       "    .dataframe tbody tr th:only-of-type {\n",
       "        vertical-align: middle;\n",
       "    }\n",
       "\n",
       "    .dataframe tbody tr th {\n",
       "        vertical-align: top;\n",
       "    }\n",
       "\n",
       "    .dataframe thead th {\n",
       "        text-align: right;\n",
       "    }\n",
       "</style>\n",
       "<table border=\"1\" class=\"dataframe\">\n",
       "  <thead>\n",
       "    <tr style=\"text-align: right;\">\n",
       "      <th></th>\n",
       "      <th>Fare_level</th>\n",
       "      <th>Fare_range</th>\n",
       "      <th>Count</th>\n",
       "      <th>Survival_proba</th>\n",
       "    </tr>\n",
       "  </thead>\n",
       "  <tbody>\n",
       "    <tr>\n",
       "      <th>0</th>\n",
       "      <td>1</td>\n",
       "      <td>(-0.512, 51.233]</td>\n",
       "      <td>1071</td>\n",
       "      <td>0.318306</td>\n",
       "    </tr>\n",
       "    <tr>\n",
       "      <th>1</th>\n",
       "      <td>2</td>\n",
       "      <td>(51.233, 102.466]</td>\n",
       "      <td>154</td>\n",
       "      <td>0.660377</td>\n",
       "    </tr>\n",
       "    <tr>\n",
       "      <th>2</th>\n",
       "      <td>3</td>\n",
       "      <td>(102.466, 153.699]</td>\n",
       "      <td>42</td>\n",
       "      <td>0.741935</td>\n",
       "    </tr>\n",
       "    <tr>\n",
       "      <th>3</th>\n",
       "      <td>4</td>\n",
       "      <td>(153.699, 204.932]</td>\n",
       "      <td>4</td>\n",
       "      <td>1.000000</td>\n",
       "    </tr>\n",
       "    <tr>\n",
       "      <th>4</th>\n",
       "      <td>5</td>\n",
       "      <td>(204.932, 256.165]</td>\n",
       "      <td>21</td>\n",
       "      <td>0.636364</td>\n",
       "    </tr>\n",
       "    <tr>\n",
       "      <th>5</th>\n",
       "      <td>6</td>\n",
       "      <td>(256.165, 307.398]</td>\n",
       "      <td>13</td>\n",
       "      <td>0.666667</td>\n",
       "    </tr>\n",
       "    <tr>\n",
       "      <th>6</th>\n",
       "      <td>7</td>\n",
       "      <td>NaN</td>\n",
       "      <td>0</td>\n",
       "      <td>NaN</td>\n",
       "    </tr>\n",
       "    <tr>\n",
       "      <th>7</th>\n",
       "      <td>8</td>\n",
       "      <td>NaN</td>\n",
       "      <td>0</td>\n",
       "      <td>NaN</td>\n",
       "    </tr>\n",
       "    <tr>\n",
       "      <th>8</th>\n",
       "      <td>9</td>\n",
       "      <td>NaN</td>\n",
       "      <td>0</td>\n",
       "      <td>NaN</td>\n",
       "    </tr>\n",
       "    <tr>\n",
       "      <th>9</th>\n",
       "      <td>10</td>\n",
       "      <td>(461.096, 512.329]</td>\n",
       "      <td>4</td>\n",
       "      <td>1.000000</td>\n",
       "    </tr>\n",
       "  </tbody>\n",
       "</table>\n",
       "</div>"
      ],
      "text/plain": [
       "  Fare_level          Fare_range  Count  Survival_proba\n",
       "0          1    (-0.512, 51.233]   1071        0.318306\n",
       "1          2   (51.233, 102.466]    154        0.660377\n",
       "2          3  (102.466, 153.699]     42        0.741935\n",
       "3          4  (153.699, 204.932]      4        1.000000\n",
       "4          5  (204.932, 256.165]     21        0.636364\n",
       "5          6  (256.165, 307.398]     13        0.666667\n",
       "6          7                 NaN      0             NaN\n",
       "7          8                 NaN      0             NaN\n",
       "8          9                 NaN      0             NaN\n",
       "9         10  (461.096, 512.329]      4        1.000000"
      ]
     },
     "execution_count": 18,
     "metadata": {},
     "output_type": "execute_result"
    }
   ],
   "source": [
    "# Calculate fare ranges with labels\n",
    "n = 10\n",
    "df['Fare_level'] = pd.cut(df['Fare'], n, labels=np.arange(1,n+1))\n",
    "df['Fare_range'] = pd.cut(df['Fare'], n)\n",
    "\n",
    "# Calculate survival probability for each fare level\n",
    "fare_survival_grouped = df.groupby('Fare_level').agg({'Fare_range': ['first', 'count'], 'Survived': 'mean'}).reset_index()\n",
    "fare_survival_grouped.columns = ['Fare_level', 'Fare_range', 'Count', 'Survival_proba']\n",
    "fare_survival_grouped = fare_survival_grouped.reset_index(drop=True)\n",
    "fare_survival_grouped"
   ]
  },
  {
   "cell_type": "markdown",
   "id": "b41c8a33-b5ac-4ba4-a6ac-4cc0825e46a3",
   "metadata": {},
   "source": [
    "In the above table, four passengers with a survival probability of 100% have fare values of £ 512.33. This is the case of Mr. Mr Thomas Drake Martinez Cardeza, a wealthy banker from Germantown, PA. He boarded the Titanic with his mother Charlotte Cardeza, his manservant Gustave Lesueur and Miss. Annie Moore Ward the maid of the Cardeza Family. (see [Encyclopedia Titanica](https://www.encyclopedia-titanica.org/titanic-survivor/thomas-cardeza.html) and [Titanic Fandom](https://titanic.fandom.com/wiki/Annie_Moore_Ward)). They occupied one of the two most luxurious suites on board (B51, B53, and B55) and paid another suit for the manservant and probably another one for their maid Annie."
   ]
  },
  {
   "cell_type": "code",
   "execution_count": 19,
   "id": "6dbc5813-2e17-4aed-9f37-f2f593c7b303",
   "metadata": {
    "tags": []
   },
   "outputs": [
    {
     "data": {
      "text/html": [
       "<div>\n",
       "<style scoped>\n",
       "    .dataframe tbody tr th:only-of-type {\n",
       "        vertical-align: middle;\n",
       "    }\n",
       "\n",
       "    .dataframe tbody tr th {\n",
       "        vertical-align: top;\n",
       "    }\n",
       "\n",
       "    .dataframe thead th {\n",
       "        text-align: right;\n",
       "    }\n",
       "</style>\n",
       "<table border=\"1\" class=\"dataframe\">\n",
       "  <thead>\n",
       "    <tr style=\"text-align: right;\">\n",
       "      <th></th>\n",
       "      <th>Survived</th>\n",
       "      <th>Name</th>\n",
       "      <th>Ticket</th>\n",
       "      <th>Fare</th>\n",
       "    </tr>\n",
       "  </thead>\n",
       "  <tbody>\n",
       "    <tr>\n",
       "      <th>258</th>\n",
       "      <td>1.0</td>\n",
       "      <td>Ward, Miss. Anna</td>\n",
       "      <td>PC 17755</td>\n",
       "      <td>512.3292</td>\n",
       "    </tr>\n",
       "    <tr>\n",
       "      <th>679</th>\n",
       "      <td>1.0</td>\n",
       "      <td>Cardeza, Mr. Thomas Drake Martinez</td>\n",
       "      <td>PC 17755</td>\n",
       "      <td>512.3292</td>\n",
       "    </tr>\n",
       "    <tr>\n",
       "      <th>737</th>\n",
       "      <td>1.0</td>\n",
       "      <td>Lesurer, Mr. Gustave J</td>\n",
       "      <td>PC 17755</td>\n",
       "      <td>512.3292</td>\n",
       "    </tr>\n",
       "    <tr>\n",
       "      <th>1234</th>\n",
       "      <td>NaN</td>\n",
       "      <td>Cardeza, Mrs. James Warburton Martinez (Charlo...</td>\n",
       "      <td>PC 17755</td>\n",
       "      <td>512.3292</td>\n",
       "    </tr>\n",
       "  </tbody>\n",
       "</table>\n",
       "</div>"
      ],
      "text/plain": [
       "      Survived                                               Name    Ticket   \n",
       "258        1.0                                   Ward, Miss. Anna  PC 17755  \\\n",
       "679        1.0                 Cardeza, Mr. Thomas Drake Martinez  PC 17755   \n",
       "737        1.0                             Lesurer, Mr. Gustave J  PC 17755   \n",
       "1234       NaN  Cardeza, Mrs. James Warburton Martinez (Charlo...  PC 17755   \n",
       "\n",
       "          Fare  \n",
       "258   512.3292  \n",
       "679   512.3292  \n",
       "737   512.3292  \n",
       "1234  512.3292  "
      ]
     },
     "execution_count": 19,
     "metadata": {},
     "output_type": "execute_result"
    }
   ],
   "source": [
    "df.loc[df['Fare_level'] == 10,[\"Survived\", \"Name\", \"Ticket\", \"Fare\" ]]"
   ]
  },
  {
   "cell_type": "markdown",
   "id": "da7cf7e0-a708-4a52-be99-8e760ec1a31d",
   "metadata": {},
   "source": [
    "Let us plot the dependency of the Survival probability with the new feature \"Fare_level\". In the plot below we can see how the survival probability increases fast with the \"Fare_level\" and oscillates for values above the 4th level."
   ]
  },
  {
   "cell_type": "code",
   "execution_count": 20,
   "id": "3eb9aab1-d717-44e2-828e-36841d8a5c26",
   "metadata": {
    "tags": []
   },
   "outputs": [
    {
     "data": {
      "image/png": "[encoded data removed]",
      "text/plain": [
       "<Figure size 640x480 with 2 Axes>"
      ]
     },
     "metadata": {},
     "output_type": "display_data"
    }
   ],
   "source": [
    "# Calculate the counts\n",
    "variable = 'Fare_level'\n",
    "counts = df[variable].value_counts()\n",
    "\n",
    "# Calculate the probability of survival\n",
    "survived = df[df['Survived'] == 1][variable].value_counts().sort_index()\n",
    "not_survived = df[df['Survived'] == 0][variable].value_counts().sort_index()\n",
    "survival_prob = survived / (survived + not_survived)\n",
    "\n",
    "# Create subplots with shared x-axis\n",
    "fig, ax1 = plt.subplots()   \n",
    "\n",
    "# Plot the survival probability using scatter plot markers and lines on the left y-axis\n",
    "ax1.plot(survival_prob.index, survival_prob.values, marker='o', linestyle='-', color='red')\n",
    "ax1.set_ylabel('Survival Probability', color='black')\n",
    "ax1.tick_params(axis='y', labelcolor='red')    \n",
    "\n",
    "# Create a twin y-axis for the left side\n",
    "ax2 = ax1.twinx()\n",
    "\n",
    "#Plot the count bars on the right y-axis\n",
    "ax2.bar(counts.index, counts.values, alpha=0.4, width=0.2, color='royalblue')\n",
    "ax2.set_ylabel('Counts', color='black')\n",
    "ax2.tick_params(axis='y', labelcolor='blue')\n",
    "\n",
    "# Set the x-axis label and title\n",
    "ax1.set_xlabel(variable)\n",
    "plt.title('Count and Survival Probability')\n",
    "\n",
    "# Adjust the layout of subplots\n",
    "plt.tight_layout()"
   ]
  },
  {
   "cell_type": "markdown",
   "id": "b61217c6-d01e-4aa2-b6be-010e8e1cdd30",
   "metadata": {
    "papermill": {
     "duration": 0.016647,
     "end_time": "2023-06-27T07:22:20.556592",
     "exception": false,
     "start_time": "2023-06-27T07:22:20.539945",
     "status": "completed"
    },
    "tags": []
   },
   "source": [
    "## Split the variable \"Cabin\"\n",
    "\n",
    "This is the dirtiest column, most values are missing and some rows contain more than one value per column (more than one cabin for some passengers). Only 22% of the \"Cabin\" values were observed (295/1309). The Cabin information could be very informative as a proxy of the distance from the boat deck where the lifeboats were located, having a high influence on the chance of survival. But this column is not structured and has mostly missing values. To help solve this, we begin by splitting this column into three columns: [\"Cabin_label\", \"Cabin_number\", \"N_of_Cabins reserved\"].\n",
    "\n",
    "Here I choose the last method and in the New variable \"Cabin_label\" the missing values are imputed by creating a new categorical variable \"N\".\n"
   ]
  },
  {
   "cell_type": "code",
   "execution_count": 21,
   "id": "d581750e-0a85-4dbd-92cd-f6a13d7b5841",
   "metadata": {
    "papermill": {
     "duration": 0.034146,
     "end_time": "2023-06-27T07:22:20.606617",
     "exception": false,
     "start_time": "2023-06-27T07:22:20.572471",
     "status": "completed"
    },
    "tags": []
   },
   "outputs": [],
   "source": [
    "# Get the label of the last reserved cabin if exists\n",
    "# get the last cabin if exists\n",
    "df['Last_cabin'] = df['Cabin'].apply(lambda x: str(x).split()[-1] if pd.notnull(x) else 'N')\n",
    "\n",
    "# get the Cabin_label of the last cabin\n",
    "pattern = r'([A-Za-z])'\n",
    "df['Cabin_label'] = df['Last_cabin'].apply(lambda x: re.search(pattern, str(x)).group(1) if x != 'N' else 'N')\n",
    "\n",
    "# Get the number of the last cabin if exists\n",
    "pattern = r'(\\d+)'\n",
    "df['Cabin_number'] = df['Last_cabin'].apply(lambda x: re.search(pattern, str(x)) if x != 'N' else -1)\n",
    "\n",
    "# Get the number of distinct cabins reserved by the passenger.\n",
    "df['Cabin_count'] = df['Cabin'].apply(lambda x: len(str(x).split()) if pd.notnull(x) else 0)\n",
    "\n",
    "# drop not used columns and columns with NaN values.\n",
    "df.drop(columns = ['Cabin','Last_cabin', 'Cabin_number'], inplace = True)"
   ]
  },
  {
   "cell_type": "markdown",
   "id": "51f5b920-995a-4417-976e-13fe3ded603c",
   "metadata": {
    "papermill": {
     "duration": 0.017599,
     "end_time": "2023-06-27T07:22:20.682067",
     "exception": false,
     "start_time": "2023-06-27T07:22:20.664468",
     "status": "completed"
    },
    "tags": []
   },
   "source": [
    "## Mapping Age\n",
    "\n",
    "Here we create a new variable \"Age_group\" by dividing the interval of values into almost equal intervals. Here I chose the ranges 0–13 for kids, 13–30 for young, range 30–45 for a mature group, 45–60 for old. From 60 years we can classify as very old. This arbitrary categorization was chosen to obtain a good distribution of values for each category (balanced)."
   ]
  },
  {
   "cell_type": "code",
   "execution_count": 22,
   "id": "4202c337-4b09-403c-aa56-e9a165e71be2",
   "metadata": {
    "papermill": {
     "duration": 0.028774,
     "end_time": "2023-06-27T07:22:20.727081",
     "exception": false,
     "start_time": "2023-06-27T07:22:20.698307",
     "status": "completed"
    },
    "tags": []
   },
   "outputs": [
    {
     "data": {
      "text/html": [
       "<div>\n",
       "<style scoped>\n",
       "    .dataframe tbody tr th:only-of-type {\n",
       "        vertical-align: middle;\n",
       "    }\n",
       "\n",
       "    .dataframe tbody tr th {\n",
       "        vertical-align: top;\n",
       "    }\n",
       "\n",
       "    .dataframe thead th {\n",
       "        text-align: right;\n",
       "    }\n",
       "</style>\n",
       "<table border=\"1\" class=\"dataframe\">\n",
       "  <thead>\n",
       "    <tr style=\"text-align: right;\">\n",
       "      <th></th>\n",
       "      <th>Age_group</th>\n",
       "      <th>Age_min</th>\n",
       "      <th>Age_max</th>\n",
       "      <th>Survival_proba</th>\n",
       "      <th>Count</th>\n",
       "    </tr>\n",
       "  </thead>\n",
       "  <tbody>\n",
       "    <tr>\n",
       "      <th>0</th>\n",
       "      <td>0.0</td>\n",
       "      <td>0.17</td>\n",
       "      <td>13.0</td>\n",
       "      <td>0.591549</td>\n",
       "      <td>71</td>\n",
       "    </tr>\n",
       "    <tr>\n",
       "      <th>1</th>\n",
       "      <td>1.0</td>\n",
       "      <td>14.00</td>\n",
       "      <td>30.0</td>\n",
       "      <td>0.366864</td>\n",
       "      <td>338</td>\n",
       "    </tr>\n",
       "    <tr>\n",
       "      <th>2</th>\n",
       "      <td>2.0</td>\n",
       "      <td>30.50</td>\n",
       "      <td>45.0</td>\n",
       "      <td>0.425743</td>\n",
       "      <td>202</td>\n",
       "    </tr>\n",
       "    <tr>\n",
       "      <th>3</th>\n",
       "      <td>3.0</td>\n",
       "      <td>45.50</td>\n",
       "      <td>60.0</td>\n",
       "      <td>0.407407</td>\n",
       "      <td>81</td>\n",
       "    </tr>\n",
       "    <tr>\n",
       "      <th>4</th>\n",
       "      <td>4.0</td>\n",
       "      <td>60.50</td>\n",
       "      <td>80.0</td>\n",
       "      <td>0.227273</td>\n",
       "      <td>22</td>\n",
       "    </tr>\n",
       "  </tbody>\n",
       "</table>\n",
       "</div>"
      ],
      "text/plain": [
       "   Age_group  Age_min  Age_max  Survival_proba  Count\n",
       "0        0.0     0.17     13.0        0.591549     71\n",
       "1        1.0    14.00     30.0        0.366864    338\n",
       "2        2.0    30.50     45.0        0.425743    202\n",
       "3        3.0    45.50     60.0        0.407407     81\n",
       "4        4.0    60.50     80.0        0.227273     22"
      ]
     },
     "execution_count": 22,
     "metadata": {},
     "output_type": "execute_result"
    }
   ],
   "source": [
    "# Mapping Age\n",
    "df.loc[df['Age'] <= 13, 'Age_group'] = 0 # kids\n",
    "df.loc[(df['Age'] > 13) & (df['Age'] <= 30), 'Age_group'] = 1 # young\n",
    "df.loc[(df['Age'] > 30) & (df['Age'] <= 45), 'Age_group'] = 2 # mature1\n",
    "df.loc[(df['Age'] > 45) & (df['Age'] <= 60), 'Age_group'] = 3 # old\n",
    "df.loc[(df['Age'] > 60) & (df['Age'] <= 100), 'Age_group'] = 4 # very old\n",
    "\n",
    "# Calculate survival probability for each Age_group\n",
    "age_survival_grouped = df.groupby('Age_group').agg({'Age': ['min', 'max'], 'Survived': ['mean', 'count']}).reset_index()\n",
    "age_survival_grouped.columns = ['Age_group', 'Age_min' , 'Age_max', 'Survival_proba', 'Count']\n",
    "age_survival_grouped"
   ]
  },
  {
   "cell_type": "code",
   "execution_count": 23,
   "id": "310ae4fb-1a42-45ed-a2fa-efb7a5cb4938",
   "metadata": {
    "tags": []
   },
   "outputs": [
    {
     "data": {
      "image/png": "[encoded data removed]",
      "text/plain": [
       "<Figure size 640x480 with 2 Axes>"
      ]
     },
     "metadata": {},
     "output_type": "display_data"
    }
   ],
   "source": [
    "# Calculate the counts\n",
    "variable = 'Age_group'\n",
    "counts = df[variable].value_counts()\n",
    "\n",
    "# Calculate the probability of survival\n",
    "survived = df[df['Survived'] == 1][variable].value_counts().sort_index()\n",
    "not_survived = df[df['Survived'] == 0][variable].value_counts().sort_index()\n",
    "survival_prob = survived / (survived + not_survived)\n",
    "\n",
    "# Create subplots with shared x-axis\n",
    "fig, ax1 = plt.subplots()   \n",
    "\n",
    "# Plot the survival probability using scatter plot markers and lines on the left y-axis\n",
    "ax1.plot(survival_prob.index, survival_prob.values, marker='o', linestyle='-', color='red')\n",
    "ax1.set_ylabel('Survival Probability', color='black')\n",
    "ax1.tick_params(axis='y', labelcolor='red')    \n",
    "\n",
    "# Create a twin y-axis for the left side\n",
    "ax2 = ax1.twinx()\n",
    "\n",
    "#Plot the count bars on the right y-axis\n",
    "ax2.bar(counts.index, counts.values, alpha=0.4, width=0.2, color='royalblue')\n",
    "ax2.set_ylabel('Counts', color='black')\n",
    "ax2.tick_params(axis='y', labelcolor='blue')\n",
    "\n",
    "# Set the x-axis label and title\n",
    "ax1.set_xlabel(variable)\n",
    "plt.title('Count and Survival Probability')\n",
    "\n",
    "# Adjust the layout of subplots\n",
    "plt.tight_layout()"
   ]
  },
  {
   "cell_type": "markdown",
   "id": "bef07f81-dca8-49b7-9434-7a796f4e3340",
   "metadata": {},
   "source": [
    "Up to this point we only made data cleaning and feature engineering. Some missing values were filled with values obtained in external sources or we applyed a conditioned median operation to fill a small number of NaN values. This operations changes the dataset a little, but I will consider the data set just cleaned and feature engineered. In the column \"Survived\" the missing values corresponds to the test part (see [Kaggle Titanic - Machine Learning from Disaster](https://www.kaggle.com/competitions/titanic/data)). The columns \"Age\" and \"Age_group\" has a lot of missing vales and we can not fill it using a simple conditional median or mapping rule. Then I will save it as \"titanic_eng.csv\". You can download this dataset from the GitHub repo that I created for this article."
   ]
  },
  {
   "cell_type": "code",
   "execution_count": 24,
   "id": "e9be9687-4eaf-44f6-b28a-649597eaa0e0",
   "metadata": {
    "tags": []
   },
   "outputs": [
    {
     "name": "stderr",
     "output_type": "stream",
     "text": [
      "C:\\Users\\Pedro\\.conda\\envs\\tfpy390\\lib\\site-packages\\missingno\\missingno.py:61: UserWarning: Plotting a sparkline on an existing axis is not currently supported. To remove this warning, set sparkline=False.\n",
      "  warnings.warn(\n"
     ]
    },
    {
     "data": {
      "image/png": "[encoded data removed]",
      "text/plain": [
       "<Figure size 1500x500 with 1 Axes>"
      ]
     },
     "metadata": {},
     "output_type": "display_data"
    }
   ],
   "source": [
    "import missingno as msno\n",
    "import matplotlib.pyplot as plt\n",
    "\n",
    "dataframe = df\n",
    "\n",
    "fig = plt.figure(figsize=(15, 5))  # Adjust the figsize as per your preference\n",
    "ax = fig.add_subplot(111)\n",
    "\n",
    "msno.matrix(dataframe, ax=ax, color=(0.29803922, 0.44705882, 0.69019608), fontsize=20)\n",
    "ax.set_xlabel('Variables')\n",
    "ax.set_ylabel('Rows', fontsize=20)\n",
    "ax.set_title('Missing Values in Titanic_eng dataset', fontsize=20)\n",
    "\n",
    "plt.show()\n"
   ]
  },
  {
   "cell_type": "code",
   "execution_count": 25,
   "id": "53abdb7f-9610-455e-8724-8e2096b25ba4",
   "metadata": {},
   "outputs": [],
   "source": [
    "# export the dataset_eng\n",
    "df.to_csv('titanic_datasets/titanic_eng.csv', index = False)"
   ]
  },
  {
   "cell_type": "markdown",
   "id": "8f4a28c7-68ca-463a-8f22-d2fbf60f406c",
   "metadata": {},
   "source": [
    "-------------------"
   ]
  },
  {
   "cell_type": "markdown",
   "id": "7525a28d-4710-443f-b4e4-864c45f7d698",
   "metadata": {
    "papermill": {
     "duration": 0.019425,
     "end_time": "2023-06-27T07:22:23.534846",
     "exception": false,
     "start_time": "2023-06-27T07:22:23.515421",
     "status": "completed"
    },
    "tags": []
   },
   "source": [
    "# Exploratory Data analysis\n",
    "\n",
    "We can make some exploratory analysis with the newly cleaned and feature-engineered Titanic dataset."
   ]
  },
  {
   "cell_type": "code",
   "execution_count": 26,
   "id": "ae177141-2f67-4885-b6e5-b39a00981956",
   "metadata": {
    "tags": []
   },
   "outputs": [
    {
     "name": "stdout",
     "output_type": "stream",
     "text": [
      "Index(['PassengerId', 'Survived', 'Pclass', 'Name', 'Sex', 'Age', 'SibSp',\n",
      "       'Parch', 'Ticket', 'Fare', 'Embarked', 'Is_male', 'Embarked_code',\n",
      "       'Ticket_preffix', 'Ticket_number', 'Companions', 'FamilySize', 'Title',\n",
      "       'is_noble', 'Fare_level', 'Fare_range', 'Cabin_label', 'Cabin_count',\n",
      "       'Age_group'],\n",
      "      dtype='object')\n"
     ]
    }
   ],
   "source": [
    "print(df.columns)"
   ]
  },
  {
   "cell_type": "code",
   "execution_count": 27,
   "id": "a7883a36-2bab-4a21-8704-b9f1583a8cc1",
   "metadata": {
    "tags": []
   },
   "outputs": [
    {
     "data": {
      "application/vnd.jupyter.widget-view+json": {
       "model_id": "9be888cb5f6246689f6b09b4160f06e9",
       "version_major": 2,
       "version_minor": 0
      },
      "text/plain": [
       "interactive(children=(Dropdown(description='variable', index=4, options=('PassengerId', 'Survived', 'Pclass', …"
      ]
     },
     "metadata": {},
     "output_type": "display_data"
    },
    {
     "data": {
      "text/plain": [
       "<function __main__.plot_countplot(variable='Sex')>"
      ]
     },
     "execution_count": 27,
     "metadata": {},
     "output_type": "execute_result"
    }
   ],
   "source": [
    "def plot_countplot(variable='Sex'):\n",
    "    # Calculate the counts\n",
    "    counts = df[variable].value_counts()\n",
    "    \n",
    "    # Calculate the probability of survival\n",
    "    survived = df[df['Survived'] == 1][variable].value_counts().sort_index()\n",
    "    not_survived = df[df['Survived'] == 0][variable].value_counts().sort_index()\n",
    "    survival_prob = survived / (survived + not_survived)\n",
    "\n",
    "    # Create subplots with shared x-axis\n",
    "    fig, ax1 = plt.subplots()   \n",
    "    \n",
    "    # Plot the survival probability using scatter plot markers and lines on the left y-axis\n",
    "    ax1.plot(survival_prob.index, survival_prob.values, marker='o', linestyle='-', color='red')\n",
    "    ax1.set_ylabel('Survival Probability', color='black')\n",
    "    ax1.tick_params(axis='y', labelcolor='red')    \n",
    "    \n",
    "    # Create a twin y-axis for the left side\n",
    "    ax2 = ax1.twinx()\n",
    "    \n",
    "    #Plot the count bars on the right y-axis\n",
    "    ax2.bar(counts.index, counts.values, alpha=0.4, width=0.2, color='royalblue')\n",
    "    ax2.set_ylabel('Counts', color='black')\n",
    "    ax2.tick_params(axis='y', labelcolor='blue')\n",
    "    \n",
    "    # Set the x-axis label and title\n",
    "    ax1.set_xlabel(variable)\n",
    "    plt.title('Count and Survival Probability')\n",
    "    \n",
    "    # Adjust the layout of subplots\n",
    "    plt.tight_layout()\n",
    "\n",
    "# Call the interact function\n",
    "interact(plot_countplot, variable=df.columns)"
   ]
  },
  {
   "cell_type": "markdown",
   "id": "7863066b-53dd-4774-8d3d-512ac295df92",
   "metadata": {},
   "source": [
    " Same plot but using plotly"
   ]
  },
  {
   "cell_type": "code",
   "execution_count": 28,
   "id": "b3f03426-52bd-430d-96ab-a0d7791fce84",
   "metadata": {
    "tags": []
   },
   "outputs": [
    {
     "data": {
      "application/vnd.jupyter.widget-view+json": {
       "model_id": "a77fe88eb64d4c3c85a9f053faf83e04",
       "version_major": 2,
       "version_minor": 0
      },
      "text/plain": [
       "interactive(children=(Dropdown(description='variable', index=2, options=('PassengerId', 'Survived', 'Pclass', …"
      ]
     },
     "metadata": {},
     "output_type": "display_data"
    },
    {
     "data": {
      "text/plain": [
       "<function __main__.plot_Var_Survival_Volume(variable='Pclass')>"
      ]
     },
     "execution_count": 28,
     "metadata": {},
     "output_type": "execute_result"
    }
   ],
   "source": [
    "def plot_Var_Survival_Volume(variable='Pclass'):\n",
    "    # Calculate the counts\n",
    "    counts = df[variable].value_counts()\n",
    "    \n",
    "    # Calculate the probability of survival\n",
    "    survived = df[df['Survived'] == 1][variable].value_counts().sort_index()\n",
    "    not_survived = df[df['Survived'] == 0][variable].value_counts().sort_index()\n",
    "    survival_prob = survived / (survived + not_survived)\n",
    "\n",
    "    # Create subplots with shared x-axis\n",
    "    fig = make_subplots(specs=[[{\"secondary_y\": True}]])   \n",
    "    \n",
    "    # Add a scatter trace for survival probability\n",
    "    fig.add_trace(go.Scatter(x=survival_prob.index, y=survival_prob.values, mode='markers+lines', name='Survival Probability', marker_color='red'), secondary_y = False)\n",
    "    # Add a bar trace for counts\n",
    "    fig.add_trace(go.Bar(x=counts.index, y=counts.values, name='Counts',width = 0.4, opacity=0.4, marker_color='royalblue'), secondary_y = True)\n",
    "    \n",
    "    # Set leayout \n",
    "    fig.update_layout(title='Count and Survival Probability',\n",
    "                      height = 600,\n",
    "                      width = 900,\n",
    "                      font=dict(\n",
    "                            family=\"Sans serif\",\n",
    "                            size=20,\n",
    "                        ),\n",
    "                      xaxis = dict(\n",
    "                          showline=True, linewidth=2, linecolor = 'black', mirror=True,\n",
    "                          showgrid=False, ticks='outside',\n",
    "                      ),\n",
    "                      yaxis = dict(\n",
    "                          title_text=\"Survival Probability\",\n",
    "                          showline=True, linewidth=2, linecolor = 'black', mirror=True,\n",
    "                          showgrid=False,\n",
    "                          ticks='outside',\n",
    "                          tickfont=dict(color='red')\n",
    "                      ),\n",
    "                      yaxis2 = dict(\n",
    "                          title_text=\"Counts\",\n",
    "                          ticks='outside',\n",
    "                          tickfont=dict(color='blue')\n",
    "                      )\n",
    "    )  \n",
    "\n",
    "\n",
    "    # Show the plot\n",
    "    fig.show()\n",
    "\n",
    "# Call the interact function\n",
    "interact(plot_Var_Survival_Volume, variable=df.columns)\n",
    "\n",
    "\n"
   ]
  },
  {
   "cell_type": "markdown",
   "id": "dbb28c6d-7e20-4967-89d3-c1629286770f",
   "metadata": {},
   "source": [
    "Same plot using Dash app.py in workdir..."
   ]
  },
  {
   "cell_type": "markdown",
   "id": "40af5d51-14fb-4663-a609-138309853d34",
   "metadata": {
    "tags": []
   },
   "source": [
    "## Dash app - Titanic Survival probabilities - variables\n",
    "[Titanic-Survival Probability for Variables](https://titanic-survivalprobability-variables.onrender.com)"
   ]
  },
  {
   "cell_type": "markdown",
   "id": "4801552b-7475-4e59-8a61-ae915f9f9ec5",
   "metadata": {
    "papermill": {
     "duration": 0.019827,
     "end_time": "2023-06-27T07:22:25.839134",
     "exception": false,
     "start_time": "2023-06-27T07:22:25.819307",
     "status": "completed"
    },
    "tags": []
   },
   "source": [
    "Let us check the correlations between the variables of the dataset."
   ]
  },
  {
   "cell_type": "code",
   "execution_count": 29,
   "id": "02139a2a-139a-41cf-be55-d9640ce33b8d",
   "metadata": {
    "papermill": {
     "duration": 0.40708,
     "end_time": "2023-06-27T07:22:26.265765",
     "exception": false,
     "start_time": "2023-06-27T07:22:25.858685",
     "status": "completed"
    },
    "tags": []
   },
   "outputs": [
    {
     "data": {
      "text/plain": [
       "<Axes: >"
      ]
     },
     "execution_count": 29,
     "metadata": {},
     "output_type": "execute_result"
    },
    {
     "data": {
      "image/png": "[encoded data removed]",
      "text/plain": [
       "<Figure size 800x700 with 2 Axes>"
      ]
     },
     "metadata": {},
     "output_type": "display_data"
    }
   ],
   "source": [
    "# print(train_data.corr())\n",
    "corrMatrix = df[~pd.isna(df[\"Survived\"])].loc[:, ['Pclass', 'Is_male', 'Age_group', 'FamilySize', 'Survived', 'Fare']].corr()\n",
    "fig, ax = plt.subplots(figsize=(8,7))         # Sample figsize in inches\n",
    "sns.heatmap(corrMatrix, annot=True, linewidths=.5, ax=ax)"
   ]
  },
  {
   "cell_type": "markdown",
   "id": "03cf9764-4b47-478d-84de-895fe6711b26",
   "metadata": {
    "papermill": {
     "duration": 0.018026,
     "end_time": "2023-06-27T07:22:23.961004",
     "exception": false,
     "start_time": "2023-06-27T07:22:23.942978",
     "status": "completed"
    },
    "tags": []
   },
   "source": [
    "## 4.1 Passengers with missing Cabin info\n",
    "\n",
    "What is the profile of the passengers that has no Cabin information, or Cabin_label = N. Analyzing the distributions of the features of the passengers that were in each cabin label, we can see that the profile of the passengers with missing Cabin info is very close to the profile of all passengers, regardless of which the Cabin they were located. It can be understood as the passengers within the group with Cabin_label = N were not mostly from the lowest class social status (Pclass = 3). There are passengers from the three Pclass values with missing Cabin values. The missing cabin info is not related to a given Pclass, Sex, or Age_group, it is randomly distributed. That is why it is very hard to use this feature, with this structure, in a meaningful way."
   ]
  },
  {
   "cell_type": "code",
   "execution_count": 31,
   "id": "a8cd5a04-5d2e-4ee4-9d51-b56f43c3f34a",
   "metadata": {
    "tags": []
   },
   "outputs": [
    {
     "data": {
      "image/png": "[encoded data removed]",
      "text/plain": [
       "<Figure size 2000x800 with 8 Axes>"
      ]
     },
     "metadata": {},
     "output_type": "display_data"
    }
   ],
   "source": [
    "# Filter the DataFrame for passengers with cabin label 'N'\n",
    "cabin_N_passengers = df[df['Cabin_label'] == 'N']\n",
    "\n",
    "fig, axes = plt.subplots(2, 4, figsize=(20, 8))\n",
    "\n",
    "# Plot the distribution of classes\n",
    "sns.countplot(x='Pclass', data=cabin_N_passengers, ax=axes[0,0], width=0.5)\n",
    "axes[0,0].set_title('Passenger Class Distribution for Cabin Label N')\n",
    "\n",
    "# Plot the distribution of sex\n",
    "sns.countplot(x='Sex', data=cabin_N_passengers, ax=axes[0,1], width=0.3)\n",
    "axes[0,1].set_title('Sex Distribution for Cabin Label N')\n",
    "\n",
    "# Plot the distribution of fare\n",
    "sns.countplot(x='Fare_level', data=cabin_N_passengers, ax=axes[0,2], width=0.5)\n",
    "axes[0,2].set_title('Fare Distribution for Cabin Label N')\n",
    "\n",
    "# Plot the distribution of fare\n",
    "sns.countplot(x='Age_group', data=cabin_N_passengers, ax=axes[0,3], width=0.5)\n",
    "axes[0,3].set_title('Age_group Distribution for Cabin Label N')\n",
    "\n",
    "# Plot the distribution of fare\n",
    "sns.countplot(x='Embarked_code', data=cabin_N_passengers, ax=axes[1,0], width=0.5)\n",
    "axes[1,0].set_title('Embarked_code Distribution for Cabin Label N')\n",
    "\n",
    "# Plot the distribution of fare\n",
    "sns.countplot(x='FamilySize', data=cabin_N_passengers, ax=axes[1,1], width=0.5)\n",
    "axes[1,1].set_title('Familysize Distribution for Cabin Label N')\n",
    "# Plot the distribution of fare\n",
    "sns.countplot(x='Companions', data=cabin_N_passengers, ax=axes[1,2], width=0.5)\n",
    "axes[1,2].set_title('Companions Distribution for Cabin Label N')\n",
    "\n",
    "# Plot the distribution of fare\n",
    "sns.countplot(x='Title', data=cabin_N_passengers, ax=axes[1,3], width=0.5)\n",
    "axes[1,3].set_title('Title Distribution for Cabin Label N')\n",
    "\n",
    "# Adjust the spacing between subplots\n",
    "plt.tight_layout()\n",
    "\n",
    "# Display the plots\n",
    "plt.show()"
   ]
  },
  {
   "cell_type": "code",
   "execution_count": 39,
   "id": "26087eb2-1890-44aa-a1fd-9dc6948577fd",
   "metadata": {
    "papermill": {
     "duration": 1.612967,
     "end_time": "2023-06-27T07:22:25.592417",
     "exception": false,
     "start_time": "2023-06-27T07:22:23.97945",
     "status": "completed"
    },
    "tags": []
   },
   "outputs": [
    {
     "data": {
      "application/vnd.plotly.v1+json": {
       "config": {
        "plotlyServerURL": "https://plotly.com"
       },
       "data": [
        {
         "text": [
          693,
          254,
          67
         ],
         "textfont": {
          "size": 15
         },
         "textposition": "outside",
         "type": "bar",
         "width": 0.9,
         "x": [
          3,
          2,
          1
         ],
         "xaxis": "x",
         "y": [
          693,
          254,
          67
         ],
         "yaxis": "y"
        },
        {
         "text": [
          689,
          325
         ],
         "textfont": {
          "size": 15
         },
         "textposition": "outside",
         "type": "bar",
         "width": 0.9,
         "x": [
          "male",
          "female"
         ],
         "xaxis": "x2",
         "y": [
          689,
          325
         ],
         "yaxis": "y2"
        },
        {
         "text": [
          956,
          44,
          7,
          3,
          2,
          1,
          1
         ],
         "textfont": {
          "size": 15
         },
         "textposition": "outside",
         "type": "bar",
         "width": 0.9,
         "x": [
          1,
          2,
          3,
          5,
          4,
          10,
          6
         ],
         "xaxis": "x3",
         "y": [
          956,
          44,
          7,
          3,
          2,
          1,
          1
         ],
         "yaxis": "y3"
        },
        {
         "text": [
          426,
          196,
          84,
          53,
          15
         ],
         "textfont": {
          "size": 15
         },
         "textposition": "outside",
         "type": "bar",
         "width": 0.9,
         "x": [
          1,
          2,
          0,
          3,
          4
         ],
         "xaxis": "x4",
         "y": [
          426,
          196,
          84,
          53,
          15
         ],
         "yaxis": "y4"
        },
        {
         "text": [
          744,
          152,
          118
         ],
         "textfont": {
          "size": 15
         },
         "textposition": "outside",
         "type": "bar",
         "width": 0.9,
         "x": [
          3,
          1,
          2
         ],
         "xaxis": "x5",
         "y": [
          744,
          152,
          118
         ],
         "yaxis": "y5"
        },
        {
         "text": [
          659,
          139,
          115,
          30,
          19,
          17,
          16,
          11,
          8
         ],
         "textfont": {
          "size": 15
         },
         "textposition": "outside",
         "type": "bar",
         "width": 0.9,
         "x": [
          0,
          1,
          2,
          3,
          5,
          4,
          6,
          10,
          7
         ],
         "xaxis": "x6",
         "y": [
          659,
          139,
          115,
          30,
          19,
          17,
          16,
          11,
          8
         ],
         "yaxis": "y6"
        },
        {
         "text": [
          618,
          173,
          97,
          34,
          29,
          22,
          16,
          14,
          11
         ],
         "textfont": {
          "size": 15
         },
         "textposition": "outside",
         "type": "bar",
         "width": 0.9,
         "x": [
          0,
          1,
          2,
          3,
          6,
          4,
          7,
          5,
          10
         ],
         "xaxis": "x7",
         "y": [
          618,
          173,
          97,
          34,
          29,
          22,
          16,
          14,
          11
         ],
         "yaxis": "y7"
        },
        {
         "text": [
          622,
          202,
          123,
          52,
          15
         ],
         "textfont": {
          "size": 15
         },
         "textposition": "outside",
         "type": "bar",
         "width": 0.9,
         "x": [
          "Mr",
          "Miss",
          "Mrs",
          "Master",
          "noble"
         ],
         "xaxis": "x8",
         "y": [
          622,
          202,
          123,
          52,
          15
         ],
         "yaxis": "y8"
        }
       ],
       "layout": {
        "annotations": [
         {
          "font": {
           "size": 16
          },
          "showarrow": false,
          "text": "Passenger Class",
          "x": 0.10625,
          "xanchor": "center",
          "xref": "paper",
          "y": 1,
          "yanchor": "bottom",
          "yref": "paper"
         },
         {
          "font": {
           "size": 16
          },
          "showarrow": false,
          "text": "Sex",
          "x": 0.36875,
          "xanchor": "center",
          "xref": "paper",
          "y": 1,
          "yanchor": "bottom",
          "yref": "paper"
         },
         {
          "font": {
           "size": 16
          },
          "showarrow": false,
          "text": "Fare_level",
          "x": 0.6312500000000001,
          "xanchor": "center",
          "xref": "paper",
          "y": 1,
          "yanchor": "bottom",
          "yref": "paper"
         },
         {
          "font": {
           "size": 16
          },
          "showarrow": false,
          "text": "Age_group",
          "x": 0.89375,
          "xanchor": "center",
          "xref": "paper",
          "y": 1,
          "yanchor": "bottom",
          "yref": "paper"
         },
         {
          "font": {
           "size": 16
          },
          "showarrow": false,
          "text": "Embarked_code",
          "x": 0.10625,
          "xanchor": "center",
          "xref": "paper",
          "y": 0.425,
          "yanchor": "bottom",
          "yref": "paper"
         },
         {
          "font": {
           "size": 16
          },
          "showarrow": false,
          "text": "Familysize",
          "x": 0.36875,
          "xanchor": "center",
          "xref": "paper",
          "y": 0.425,
          "yanchor": "bottom",
          "yref": "paper"
         },
         {
          "font": {
           "size": 16
          },
          "showarrow": false,
          "text": "Companions",
          "x": 0.6312500000000001,
          "xanchor": "center",
          "xref": "paper",
          "y": 0.425,
          "yanchor": "bottom",
          "yref": "paper"
         },
         {
          "font": {
           "size": 16
          },
          "showarrow": false,
          "text": "Titles",
          "x": 0.89375,
          "xanchor": "center",
          "xref": "paper",
          "y": 0.425,
          "yanchor": "bottom",
          "yref": "paper"
         }
        ],
        "height": 700,
        "paper_bgcolor": "white",
        "plot_bgcolor": "white",
        "showlegend": false,
        "template": {
         "data": {
          "bar": [
           {
            "error_x": {
             "color": "#2a3f5f"
            },
            "error_y": {
             "color": "#2a3f5f"
            },
            "marker": {
             "line": {
              "color": "#E5ECF6",
              "width": 0.5
             },
             "pattern": {
              "fillmode": "overlay",
              "size": 10,
              "solidity": 0.2
             }
            },
            "type": "bar"
           }
          ],
          "barpolar": [
           {
            "marker": {
             "line": {
              "color": "#E5ECF6",
              "width": 0.5
             },
             "pattern": {
              "fillmode": "overlay",
              "size": 10,
              "solidity": 0.2
             }
            },
            "type": "barpolar"
           }
          ],
          "carpet": [
           {
            "aaxis": {
             "endlinecolor": "#2a3f5f",
             "gridcolor": "white",
             "linecolor": "white",
             "minorgridcolor": "white",
             "startlinecolor": "#2a3f5f"
            },
            "baxis": {
             "endlinecolor": "#2a3f5f",
             "gridcolor": "white",
             "linecolor": "white",
             "minorgridcolor": "white",
             "startlinecolor": "#2a3f5f"
            },
            "type": "carpet"
           }
          ],
          "choropleth": [
           {
            "colorbar": {
             "outlinewidth": 0,
             "ticks": ""
            },
            "type": "choropleth"
           }
          ],
          "contour": [
           {
            "colorbar": {
             "outlinewidth": 0,
             "ticks": ""
            },
            "colorscale": [
             [
              0,
              "#0d0887"
             ],
             [
              0.1111111111111111,
              "#46039f"
             ],
             [
              0.2222222222222222,
              "#7201a8"
             ],
             [
              0.3333333333333333,
              "#9c179e"
             ],
             [
              0.4444444444444444,
              "#bd3786"
             ],
             [
              0.5555555555555556,
              "#d8576b"
             ],
             [
              0.6666666666666666,
              "#ed7953"
             ],
             [
              0.7777777777777778,
              "#fb9f3a"
             ],
             [
              0.8888888888888888,
              "#fdca26"
             ],
             [
              1,
              "#f0f921"
             ]
            ],
            "type": "contour"
           }
          ],
          "contourcarpet": [
           {
            "colorbar": {
             "outlinewidth": 0,
             "ticks": ""
            },
            "type": "contourcarpet"
           }
          ],
          "heatmap": [
           {
            "colorbar": {
             "outlinewidth": 0,
             "ticks": ""
            },
            "colorscale": [
             [
              0,
              "#0d0887"
             ],
             [
              0.1111111111111111,
              "#46039f"
             ],
             [
              0.2222222222222222,
              "#7201a8"
             ],
             [
              0.3333333333333333,
              "#9c179e"
             ],
             [
              0.4444444444444444,
              "#bd3786"
             ],
             [
              0.5555555555555556,
              "#d8576b"
             ],
             [
              0.6666666666666666,
              "#ed7953"
             ],
             [
              0.7777777777777778,
              "#fb9f3a"
             ],
             [
              0.8888888888888888,
              "#fdca26"
             ],
             [
              1,
              "#f0f921"
             ]
            ],
            "type": "heatmap"
           }
          ],
          "heatmapgl": [
           {
            "colorbar": {
             "outlinewidth": 0,
             "ticks": ""
            },
            "colorscale": [
             [
              0,
              "#0d0887"
             ],
             [
              0.1111111111111111,
              "#46039f"
             ],
             [
              0.2222222222222222,
              "#7201a8"
             ],
             [
              0.3333333333333333,
              "#9c179e"
             ],
             [
              0.4444444444444444,
              "#bd3786"
             ],
             [
              0.5555555555555556,
              "#d8576b"
             ],
             [
              0.6666666666666666,
              "#ed7953"
             ],
             [
              0.7777777777777778,
              "#fb9f3a"
             ],
             [
              0.8888888888888888,
              "#fdca26"
             ],
             [
              1,
              "#f0f921"
             ]
            ],
            "type": "heatmapgl"
           }
          ],
          "histogram": [
           {
            "marker": {
             "pattern": {
              "fillmode": "overlay",
              "size": 10,
              "solidity": 0.2
             }
            },
            "type": "histogram"
           }
          ],
          "histogram2d": [
           {
            "colorbar": {
             "outlinewidth": 0,
             "ticks": ""
            },
            "colorscale": [
             [
              0,
              "#0d0887"
             ],
             [
              0.1111111111111111,
              "#46039f"
             ],
             [
              0.2222222222222222,
              "#7201a8"
             ],
             [
              0.3333333333333333,
              "#9c179e"
             ],
             [
              0.4444444444444444,
              "#bd3786"
             ],
             [
              0.5555555555555556,
              "#d8576b"
             ],
             [
              0.6666666666666666,
              "#ed7953"
             ],
             [
              0.7777777777777778,
              "#fb9f3a"
             ],
             [
              0.8888888888888888,
              "#fdca26"
             ],
             [
              1,
              "#f0f921"
             ]
            ],
            "type": "histogram2d"
           }
          ],
          "histogram2dcontour": [
           {
            "colorbar": {
             "outlinewidth": 0,
             "ticks": ""
            },
            "colorscale": [
             [
              0,
              "#0d0887"
             ],
             [
              0.1111111111111111,
              "#46039f"
             ],
             [
              0.2222222222222222,
              "#7201a8"
             ],
             [
              0.3333333333333333,
              "#9c179e"
             ],
             [
              0.4444444444444444,
              "#bd3786"
             ],
             [
              0.5555555555555556,
              "#d8576b"
             ],
             [
              0.6666666666666666,
              "#ed7953"
             ],
             [
              0.7777777777777778,
              "#fb9f3a"
             ],
             [
              0.8888888888888888,
              "#fdca26"
             ],
             [
              1,
              "#f0f921"
             ]
            ],
            "type": "histogram2dcontour"
           }
          ],
          "mesh3d": [
           {
            "colorbar": {
             "outlinewidth": 0,
             "ticks": ""
            },
            "type": "mesh3d"
           }
          ],
          "parcoords": [
           {
            "line": {
             "colorbar": {
              "outlinewidth": 0,
              "ticks": ""
             }
            },
            "type": "parcoords"
           }
          ],
          "pie": [
           {
            "automargin": true,
            "type": "pie"
           }
          ],
          "scatter": [
           {
            "fillpattern": {
             "fillmode": "overlay",
             "size": 10,
             "solidity": 0.2
            },
            "type": "scatter"
           }
          ],
          "scatter3d": [
           {
            "line": {
             "colorbar": {
              "outlinewidth": 0,
              "ticks": ""
             }
            },
            "marker": {
             "colorbar": {
              "outlinewidth": 0,
              "ticks": ""
             }
            },
            "type": "scatter3d"
           }
          ],
          "scattercarpet": [
           {
            "marker": {
             "colorbar": {
              "outlinewidth": 0,
              "ticks": ""
             }
            },
            "type": "scattercarpet"
           }
          ],
          "scattergeo": [
           {
            "marker": {
             "colorbar": {
              "outlinewidth": 0,
              "ticks": ""
             }
            },
            "type": "scattergeo"
           }
          ],
          "scattergl": [
           {
            "marker": {
             "colorbar": {
              "outlinewidth": 0,
              "ticks": ""
             }
            },
            "type": "scattergl"
           }
          ],
          "scattermapbox": [
           {
            "marker": {
             "colorbar": {
              "outlinewidth": 0,
              "ticks": ""
             }
            },
            "type": "scattermapbox"
           }
          ],
          "scatterpolar": [
           {
            "marker": {
             "colorbar": {
              "outlinewidth": 0,
              "ticks": ""
             }
            },
            "type": "scatterpolar"
           }
          ],
          "scatterpolargl": [
           {
            "marker": {
             "colorbar": {
              "outlinewidth": 0,
              "ticks": ""
             }
            },
            "type": "scatterpolargl"
           }
          ],
          "scatterternary": [
           {
            "marker": {
             "colorbar": {
              "outlinewidth": 0,
              "ticks": ""
             }
            },
            "type": "scatterternary"
           }
          ],
          "surface": [
           {
            "colorbar": {
             "outlinewidth": 0,
             "ticks": ""
            },
            "colorscale": [
             [
              0,
              "#0d0887"
             ],
             [
              0.1111111111111111,
              "#46039f"
             ],
             [
              0.2222222222222222,
              "#7201a8"
             ],
             [
              0.3333333333333333,
              "#9c179e"
             ],
             [
              0.4444444444444444,
              "#bd3786"
             ],
             [
              0.5555555555555556,
              "#d8576b"
             ],
             [
              0.6666666666666666,
              "#ed7953"
             ],
             [
              0.7777777777777778,
              "#fb9f3a"
             ],
             [
              0.8888888888888888,
              "#fdca26"
             ],
             [
              1,
              "#f0f921"
             ]
            ],
            "type": "surface"
           }
          ],
          "table": [
           {
            "cells": {
             "fill": {
              "color": "#EBF0F8"
             },
             "line": {
              "color": "white"
             }
            },
            "header": {
             "fill": {
              "color": "#C8D4E3"
             },
             "line": {
              "color": "white"
             }
            },
            "type": "table"
           }
          ]
         },
         "layout": {
          "annotationdefaults": {
           "arrowcolor": "#2a3f5f",
           "arrowhead": 0,
           "arrowwidth": 1
          },
          "autotypenumbers": "strict",
          "coloraxis": {
           "colorbar": {
            "outlinewidth": 0,
            "ticks": ""
           }
          },
          "colorscale": {
           "diverging": [
            [
             0,
             "#8e0152"
            ],
            [
             0.1,
             "#c51b7d"
            ],
            [
             0.2,
             "#de77ae"
            ],
            [
             0.3,
             "#f1b6da"
            ],
            [
             0.4,
             "#fde0ef"
            ],
            [
             0.5,
             "#f7f7f7"
            ],
            [
             0.6,
             "#e6f5d0"
            ],
            [
             0.7,
             "#b8e186"
            ],
            [
             0.8,
             "#7fbc41"
            ],
            [
             0.9,
             "#4d9221"
            ],
            [
             1,
             "#276419"
            ]
           ],
           "sequential": [
            [
             0,
             "#0d0887"
            ],
            [
             0.1111111111111111,
             "#46039f"
            ],
            [
             0.2222222222222222,
             "#7201a8"
            ],
            [
             0.3333333333333333,
             "#9c179e"
            ],
            [
             0.4444444444444444,
             "#bd3786"
            ],
            [
             0.5555555555555556,
             "#d8576b"
            ],
            [
             0.6666666666666666,
             "#ed7953"
            ],
            [
             0.7777777777777778,
             "#fb9f3a"
            ],
            [
             0.8888888888888888,
             "#fdca26"
            ],
            [
             1,
             "#f0f921"
            ]
           ],
           "sequentialminus": [
            [
             0,
             "#0d0887"
            ],
            [
             0.1111111111111111,
             "#46039f"
            ],
            [
             0.2222222222222222,
             "#7201a8"
            ],
            [
             0.3333333333333333,
             "#9c179e"
            ],
            [
             0.4444444444444444,
             "#bd3786"
            ],
            [
             0.5555555555555556,
             "#d8576b"
            ],
            [
             0.6666666666666666,
             "#ed7953"
            ],
            [
             0.7777777777777778,
             "#fb9f3a"
            ],
            [
             0.8888888888888888,
             "#fdca26"
            ],
            [
             1,
             "#f0f921"
            ]
           ]
          },
          "colorway": [
           "#636efa",
           "#EF553B",
           "#00cc96",
           "#ab63fa",
           "#FFA15A",
           "#19d3f3",
           "#FF6692",
           "#B6E880",
           "#FF97FF",
           "#FECB52"
          ],
          "font": {
           "color": "#2a3f5f"
          },
          "geo": {
           "bgcolor": "white",
           "lakecolor": "white",
           "landcolor": "#E5ECF6",
           "showlakes": true,
           "showland": true,
           "subunitcolor": "white"
          },
          "hoverlabel": {
           "align": "left"
          },
          "hovermode": "closest",
          "mapbox": {
           "style": "light"
          },
          "paper_bgcolor": "white",
          "plot_bgcolor": "#E5ECF6",
          "polar": {
           "angularaxis": {
            "gridcolor": "white",
            "linecolor": "white",
            "ticks": ""
           },
           "bgcolor": "#E5ECF6",
           "radialaxis": {
            "gridcolor": "white",
            "linecolor": "white",
            "ticks": ""
           }
          },
          "scene": {
           "xaxis": {
            "backgroundcolor": "#E5ECF6",
            "gridcolor": "white",
            "gridwidth": 2,
            "linecolor": "white",
            "showbackground": true,
            "ticks": "",
            "zerolinecolor": "white"
           },
           "yaxis": {
            "backgroundcolor": "#E5ECF6",
            "gridcolor": "white",
            "gridwidth": 2,
            "linecolor": "white",
            "showbackground": true,
            "ticks": "",
            "zerolinecolor": "white"
           },
           "zaxis": {
            "backgroundcolor": "#E5ECF6",
            "gridcolor": "white",
            "gridwidth": 2,
            "linecolor": "white",
            "showbackground": true,
            "ticks": "",
            "zerolinecolor": "white"
           }
          },
          "shapedefaults": {
           "line": {
            "color": "#2a3f5f"
           }
          },
          "ternary": {
           "aaxis": {
            "gridcolor": "white",
            "linecolor": "white",
            "ticks": ""
           },
           "baxis": {
            "gridcolor": "white",
            "linecolor": "white",
            "ticks": ""
           },
           "bgcolor": "#E5ECF6",
           "caxis": {
            "gridcolor": "white",
            "linecolor": "white",
            "ticks": ""
           }
          },
          "title": {
           "x": 0.05
          },
          "xaxis": {
           "automargin": true,
           "gridcolor": "white",
           "linecolor": "white",
           "ticks": "",
           "title": {
            "standoff": 15
           },
           "zerolinecolor": "white",
           "zerolinewidth": 2
          },
          "yaxis": {
           "automargin": true,
           "gridcolor": "white",
           "linecolor": "white",
           "ticks": "",
           "title": {
            "standoff": 15
           },
           "zerolinecolor": "white",
           "zerolinewidth": 2
          }
         }
        },
        "title": {
         "text": "Variables distributons for passengers of the Cabin N"
        },
        "width": 1500,
        "xaxis": {
         "anchor": "y",
         "autorange": true,
         "domain": [
          0,
          0.2125
         ],
         "dtick": 1,
         "linecolor": "black",
         "mirror": true,
         "range": [
          0.5,
          3.5
         ],
         "showline": true,
         "tickmode": "linear",
         "title": {
          "text": "Pclass"
         },
         "type": "linear"
        },
        "xaxis2": {
         "anchor": "y2",
         "autorange": true,
         "domain": [
          0.2625,
          0.475
         ],
         "dtick": 1,
         "linecolor": "black",
         "mirror": true,
         "range": [
          -0.5,
          1.5
         ],
         "showline": true,
         "tickmode": "linear",
         "title": {
          "text": "Sex"
         },
         "type": "category"
        },
        "xaxis3": {
         "anchor": "y3",
         "autorange": true,
         "domain": [
          0.525,
          0.7375
         ],
         "dtick": 1,
         "linecolor": "black",
         "mirror": true,
         "range": [
          0.5,
          10.5
         ],
         "showline": true,
         "tickmode": "linear",
         "title": {
          "text": "Fare_level"
         },
         "type": "linear"
        },
        "xaxis4": {
         "anchor": "y4",
         "autorange": true,
         "domain": [
          0.7875,
          1
         ],
         "dtick": 1,
         "linecolor": "black",
         "mirror": true,
         "range": [
          -0.5,
          4.5
         ],
         "showline": true,
         "tickmode": "linear",
         "title": {
          "text": "Age_group"
         },
         "type": "linear"
        },
        "xaxis5": {
         "anchor": "y5",
         "autorange": true,
         "domain": [
          0,
          0.2125
         ],
         "dtick": 1,
         "linecolor": "black",
         "mirror": true,
         "range": [
          0.5,
          3.5
         ],
         "showline": true,
         "tickmode": "linear",
         "title": {
          "text": "Embarked_code"
         },
         "type": "linear"
        },
        "xaxis6": {
         "anchor": "y6",
         "autorange": true,
         "domain": [
          0.2625,
          0.475
         ],
         "dtick": 1,
         "linecolor": "black",
         "mirror": true,
         "range": [
          -0.5,
          10.5
         ],
         "showline": true,
         "tickmode": "linear",
         "title": {
          "text": "FamilySize"
         },
         "type": "linear"
        },
        "xaxis7": {
         "anchor": "y7",
         "autorange": true,
         "domain": [
          0.525,
          0.7375
         ],
         "dtick": 1,
         "linecolor": "black",
         "mirror": true,
         "range": [
          -0.5,
          10.5
         ],
         "showline": true,
         "tickmode": "linear",
         "title": {
          "text": "Companions"
         },
         "type": "linear"
        },
        "xaxis8": {
         "anchor": "y8",
         "autorange": true,
         "domain": [
          0.7875,
          1
         ],
         "dtick": 1,
         "linecolor": "black",
         "mirror": true,
         "range": [
          -0.5,
          4.5
         ],
         "showline": true,
         "tickmode": "linear",
         "title": {
          "text": "Title"
         },
         "type": "category"
        },
        "yaxis": {
         "anchor": "x",
         "domain": [
          0.575,
          1
         ],
         "linecolor": "black",
         "mirror": true,
         "range": [
          0,
          776.1600000000001
         ],
         "showline": true,
         "title": {
          "standoff": 0.1,
          "text": "Counts"
         },
         "type": "linear"
        },
        "yaxis2": {
         "anchor": "x2",
         "domain": [
          0.575,
          1
         ],
         "linecolor": "black",
         "mirror": true,
         "range": [
          0,
          771.6800000000001
         ],
         "showline": true,
         "title": {
          "standoff": 0.1,
          "text": "Counts"
         },
         "type": "linear"
        },
        "yaxis3": {
         "anchor": "x3",
         "domain": [
          0.575,
          1
         ],
         "linecolor": "black",
         "mirror": true,
         "range": [
          0,
          1070.72
         ],
         "showline": true,
         "title": {
          "standoff": 0.1,
          "text": "Counts"
         },
         "type": "linear"
        },
        "yaxis4": {
         "anchor": "x4",
         "domain": [
          0.575,
          1
         ],
         "linecolor": "black",
         "mirror": true,
         "range": [
          0,
          477.12000000000006
         ],
         "showline": true,
         "title": {
          "standoff": 0.1,
          "text": "Counts"
         },
         "type": "linear"
        },
        "yaxis5": {
         "anchor": "x5",
         "domain": [
          0,
          0.425
         ],
         "linecolor": "black",
         "mirror": true,
         "range": [
          0,
          833.2800000000001
         ],
         "showline": true,
         "title": {
          "standoff": 0.1,
          "text": "Counts"
         },
         "type": "linear"
        },
        "yaxis6": {
         "anchor": "x6",
         "domain": [
          0,
          0.425
         ],
         "linecolor": "black",
         "mirror": true,
         "range": [
          0,
          738.08
         ],
         "showline": true,
         "title": {
          "standoff": 0.1,
          "text": "Counts"
         },
         "type": "linear"
        },
        "yaxis7": {
         "anchor": "x7",
         "domain": [
          0,
          0.425
         ],
         "linecolor": "black",
         "mirror": true,
         "range": [
          0,
          692.1600000000001
         ],
         "showline": true,
         "title": {
          "standoff": 0.1,
          "text": "Counts"
         },
         "type": "linear"
        },
        "yaxis8": {
         "anchor": "x8",
         "domain": [
          0,
          0.425
         ],
         "linecolor": "black",
         "mirror": true,
         "range": [
          0,
          696.6400000000001
         ],
         "showline": true,
         "title": {
          "standoff": 0.1,
          "text": "Counts"
         },
         "type": "linear"
        }
       }
      },
      "image/png": "[encoded data removed]",
      "text/html": [
       "<div>                            <div id=\"b06d0ab3-1429-4a78-a4f7-a9baa49dbb00\" class=\"plotly-graph-div\" style=\"height:700px; width:1500px;\"></div>            <script type=\"text/javascript\">                require([\"plotly\"], function(Plotly) {                    window.PLOTLYENV=window.PLOTLYENV || {};                                    if (document.getElementById(\"b06d0ab3-1429-4a78-a4f7-a9baa49dbb00\")) {                    Plotly.newPlot(                        \"b06d0ab3-1429-4a78-a4f7-a9baa49dbb00\",                        [{\"text\":[693.0,254.0,67.0],\"textposition\":\"outside\",\"width\":0.9,\"x\":[3,2,1],\"y\":[693,254,67],\"type\":\"bar\",\"xaxis\":\"x\",\"yaxis\":\"y\",\"textfont\":{\"size\":15}},{\"text\":[689.0,325.0],\"textposition\":\"outside\",\"width\":0.9,\"x\":[\"male\",\"female\"],\"y\":[689,325],\"type\":\"bar\",\"xaxis\":\"x2\",\"yaxis\":\"y2\",\"textfont\":{\"size\":15}},{\"text\":[956.0,44.0,7.0,3.0,2.0,1.0,1.0],\"textposition\":\"outside\",\"width\":0.9,\"x\":[1,2,3,5,4,10,6],\"y\":[956,44,7,3,2,1,1],\"type\":\"bar\",\"xaxis\":\"x3\",\"yaxis\":\"y3\",\"textfont\":{\"size\":15}},{\"text\":[426.0,196.0,84.0,53.0,15.0],\"textposition\":\"outside\",\"width\":0.9,\"x\":[1.0,2.0,0.0,3.0,4.0],\"y\":[426,196,84,53,15],\"type\":\"bar\",\"xaxis\":\"x4\",\"yaxis\":\"y4\",\"textfont\":{\"size\":15}},{\"text\":[744.0,152.0,118.0],\"textposition\":\"outside\",\"width\":0.9,\"x\":[3,1,2],\"y\":[744,152,118],\"type\":\"bar\",\"xaxis\":\"x5\",\"yaxis\":\"y5\",\"textfont\":{\"size\":15}},{\"text\":[659.0,139.0,115.0,30.0,19.0,17.0,16.0,11.0,8.0],\"textposition\":\"outside\",\"width\":0.9,\"x\":[0,1,2,3,5,4,6,10,7],\"y\":[659,139,115,30,19,17,16,11,8],\"type\":\"bar\",\"xaxis\":\"x6\",\"yaxis\":\"y6\",\"textfont\":{\"size\":15}},{\"text\":[618.0,173.0,97.0,34.0,29.0,22.0,16.0,14.0,11.0],\"textposition\":\"outside\",\"width\":0.9,\"x\":[0,1,2,3,6,4,7,5,10],\"y\":[618,173,97,34,29,22,16,14,11],\"type\":\"bar\",\"xaxis\":\"x7\",\"yaxis\":\"y7\",\"textfont\":{\"size\":15}},{\"text\":[622.0,202.0,123.0,52.0,15.0],\"textposition\":\"outside\",\"width\":0.9,\"x\":[\"Mr\",\"Miss\",\"Mrs\",\"Master\",\"noble\"],\"y\":[622,202,123,52,15],\"type\":\"bar\",\"xaxis\":\"x8\",\"yaxis\":\"y8\",\"textfont\":{\"size\":15}}],                        {\"template\":{\"data\":{\"histogram2dcontour\":[{\"type\":\"histogram2dcontour\",\"colorbar\":{\"outlinewidth\":0,\"ticks\":\"\"},\"colorscale\":[[0.0,\"#0d0887\"],[0.1111111111111111,\"#46039f\"],[0.2222222222222222,\"#7201a8\"],[0.3333333333333333,\"#9c179e\"],[0.4444444444444444,\"#bd3786\"],[0.5555555555555556,\"#d8576b\"],[0.6666666666666666,\"#ed7953\"],[0.7777777777777778,\"#fb9f3a\"],[0.8888888888888888,\"#fdca26\"],[1.0,\"#f0f921\"]]}],\"choropleth\":[{\"type\":\"choropleth\",\"colorbar\":{\"outlinewidth\":0,\"ticks\":\"\"}}],\"histogram2d\":[{\"type\":\"histogram2d\",\"colorbar\":{\"outlinewidth\":0,\"ticks\":\"\"},\"colorscale\":[[0.0,\"#0d0887\"],[0.1111111111111111,\"#46039f\"],[0.2222222222222222,\"#7201a8\"],[0.3333333333333333,\"#9c179e\"],[0.4444444444444444,\"#bd3786\"],[0.5555555555555556,\"#d8576b\"],[0.6666666666666666,\"#ed7953\"],[0.7777777777777778,\"#fb9f3a\"],[0.8888888888888888,\"#fdca26\"],[1.0,\"#f0f921\"]]}],\"heatmap\":[{\"type\":\"heatmap\",\"colorbar\":{\"outlinewidth\":0,\"ticks\":\"\"},\"colorscale\":[[0.0,\"#0d0887\"],[0.1111111111111111,\"#46039f\"],[0.2222222222222222,\"#7201a8\"],[0.3333333333333333,\"#9c179e\"],[0.4444444444444444,\"#bd3786\"],[0.5555555555555556,\"#d8576b\"],[0.6666666666666666,\"#ed7953\"],[0.7777777777777778,\"#fb9f3a\"],[0.8888888888888888,\"#fdca26\"],[1.0,\"#f0f921\"]]}],\"heatmapgl\":[{\"type\":\"heatmapgl\",\"colorbar\":{\"outlinewidth\":0,\"ticks\":\"\"},\"colorscale\":[[0.0,\"#0d0887\"],[0.1111111111111111,\"#46039f\"],[0.2222222222222222,\"#7201a8\"],[0.3333333333333333,\"#9c179e\"],[0.4444444444444444,\"#bd3786\"],[0.5555555555555556,\"#d8576b\"],[0.6666666666666666,\"#ed7953\"],[0.7777777777777778,\"#fb9f3a\"],[0.8888888888888888,\"#fdca26\"],[1.0,\"#f0f921\"]]}],\"contourcarpet\":[{\"type\":\"contourcarpet\",\"colorbar\":{\"outlinewidth\":0,\"ticks\":\"\"}}],\"contour\":[{\"type\":\"contour\",\"colorbar\":{\"outlinewidth\":0,\"ticks\":\"\"},\"colorscale\":[[0.0,\"#0d0887\"],[0.1111111111111111,\"#46039f\"],[0.2222222222222222,\"#7201a8\"],[0.3333333333333333,\"#9c179e\"],[0.4444444444444444,\"#bd3786\"],[0.5555555555555556,\"#d8576b\"],[0.6666666666666666,\"#ed7953\"],[0.7777777777777778,\"#fb9f3a\"],[0.8888888888888888,\"#fdca26\"],[1.0,\"#f0f921\"]]}],\"surface\":[{\"type\":\"surface\",\"colorbar\":{\"outlinewidth\":0,\"ticks\":\"\"},\"colorscale\":[[0.0,\"#0d0887\"],[0.1111111111111111,\"#46039f\"],[0.2222222222222222,\"#7201a8\"],[0.3333333333333333,\"#9c179e\"],[0.4444444444444444,\"#bd3786\"],[0.5555555555555556,\"#d8576b\"],[0.6666666666666666,\"#ed7953\"],[0.7777777777777778,\"#fb9f3a\"],[0.8888888888888888,\"#fdca26\"],[1.0,\"#f0f921\"]]}],\"mesh3d\":[{\"type\":\"mesh3d\",\"colorbar\":{\"outlinewidth\":0,\"ticks\":\"\"}}],\"scatter\":[{\"fillpattern\":{\"fillmode\":\"overlay\",\"size\":10,\"solidity\":0.2},\"type\":\"scatter\"}],\"parcoords\":[{\"type\":\"parcoords\",\"line\":{\"colorbar\":{\"outlinewidth\":0,\"ticks\":\"\"}}}],\"scatterpolargl\":[{\"type\":\"scatterpolargl\",\"marker\":{\"colorbar\":{\"outlinewidth\":0,\"ticks\":\"\"}}}],\"bar\":[{\"error_x\":{\"color\":\"#2a3f5f\"},\"error_y\":{\"color\":\"#2a3f5f\"},\"marker\":{\"line\":{\"color\":\"#E5ECF6\",\"width\":0.5},\"pattern\":{\"fillmode\":\"overlay\",\"size\":10,\"solidity\":0.2}},\"type\":\"bar\"}],\"scattergeo\":[{\"type\":\"scattergeo\",\"marker\":{\"colorbar\":{\"outlinewidth\":0,\"ticks\":\"\"}}}],\"scatterpolar\":[{\"type\":\"scatterpolar\",\"marker\":{\"colorbar\":{\"outlinewidth\":0,\"ticks\":\"\"}}}],\"histogram\":[{\"marker\":{\"pattern\":{\"fillmode\":\"overlay\",\"size\":10,\"solidity\":0.2}},\"type\":\"histogram\"}],\"scattergl\":[{\"type\":\"scattergl\",\"marker\":{\"colorbar\":{\"outlinewidth\":0,\"ticks\":\"\"}}}],\"scatter3d\":[{\"type\":\"scatter3d\",\"line\":{\"colorbar\":{\"outlinewidth\":0,\"ticks\":\"\"}},\"marker\":{\"colorbar\":{\"outlinewidth\":0,\"ticks\":\"\"}}}],\"scattermapbox\":[{\"type\":\"scattermapbox\",\"marker\":{\"colorbar\":{\"outlinewidth\":0,\"ticks\":\"\"}}}],\"scatterternary\":[{\"type\":\"scatterternary\",\"marker\":{\"colorbar\":{\"outlinewidth\":0,\"ticks\":\"\"}}}],\"scattercarpet\":[{\"type\":\"scattercarpet\",\"marker\":{\"colorbar\":{\"outlinewidth\":0,\"ticks\":\"\"}}}],\"carpet\":[{\"aaxis\":{\"endlinecolor\":\"#2a3f5f\",\"gridcolor\":\"white\",\"linecolor\":\"white\",\"minorgridcolor\":\"white\",\"startlinecolor\":\"#2a3f5f\"},\"baxis\":{\"endlinecolor\":\"#2a3f5f\",\"gridcolor\":\"white\",\"linecolor\":\"white\",\"minorgridcolor\":\"white\",\"startlinecolor\":\"#2a3f5f\"},\"type\":\"carpet\"}],\"table\":[{\"cells\":{\"fill\":{\"color\":\"#EBF0F8\"},\"line\":{\"color\":\"white\"}},\"header\":{\"fill\":{\"color\":\"#C8D4E3\"},\"line\":{\"color\":\"white\"}},\"type\":\"table\"}],\"barpolar\":[{\"marker\":{\"line\":{\"color\":\"#E5ECF6\",\"width\":0.5},\"pattern\":{\"fillmode\":\"overlay\",\"size\":10,\"solidity\":0.2}},\"type\":\"barpolar\"}],\"pie\":[{\"automargin\":true,\"type\":\"pie\"}]},\"layout\":{\"autotypenumbers\":\"strict\",\"colorway\":[\"#636efa\",\"#EF553B\",\"#00cc96\",\"#ab63fa\",\"#FFA15A\",\"#19d3f3\",\"#FF6692\",\"#B6E880\",\"#FF97FF\",\"#FECB52\"],\"font\":{\"color\":\"#2a3f5f\"},\"hovermode\":\"closest\",\"hoverlabel\":{\"align\":\"left\"},\"paper_bgcolor\":\"white\",\"plot_bgcolor\":\"#E5ECF6\",\"polar\":{\"bgcolor\":\"#E5ECF6\",\"angularaxis\":{\"gridcolor\":\"white\",\"linecolor\":\"white\",\"ticks\":\"\"},\"radialaxis\":{\"gridcolor\":\"white\",\"linecolor\":\"white\",\"ticks\":\"\"}},\"ternary\":{\"bgcolor\":\"#E5ECF6\",\"aaxis\":{\"gridcolor\":\"white\",\"linecolor\":\"white\",\"ticks\":\"\"},\"baxis\":{\"gridcolor\":\"white\",\"linecolor\":\"white\",\"ticks\":\"\"},\"caxis\":{\"gridcolor\":\"white\",\"linecolor\":\"white\",\"ticks\":\"\"}},\"coloraxis\":{\"colorbar\":{\"outlinewidth\":0,\"ticks\":\"\"}},\"colorscale\":{\"sequential\":[[0.0,\"#0d0887\"],[0.1111111111111111,\"#46039f\"],[0.2222222222222222,\"#7201a8\"],[0.3333333333333333,\"#9c179e\"],[0.4444444444444444,\"#bd3786\"],[0.5555555555555556,\"#d8576b\"],[0.6666666666666666,\"#ed7953\"],[0.7777777777777778,\"#fb9f3a\"],[0.8888888888888888,\"#fdca26\"],[1.0,\"#f0f921\"]],\"sequentialminus\":[[0.0,\"#0d0887\"],[0.1111111111111111,\"#46039f\"],[0.2222222222222222,\"#7201a8\"],[0.3333333333333333,\"#9c179e\"],[0.4444444444444444,\"#bd3786\"],[0.5555555555555556,\"#d8576b\"],[0.6666666666666666,\"#ed7953\"],[0.7777777777777778,\"#fb9f3a\"],[0.8888888888888888,\"#fdca26\"],[1.0,\"#f0f921\"]],\"diverging\":[[0,\"#8e0152\"],[0.1,\"#c51b7d\"],[0.2,\"#de77ae\"],[0.3,\"#f1b6da\"],[0.4,\"#fde0ef\"],[0.5,\"#f7f7f7\"],[0.6,\"#e6f5d0\"],[0.7,\"#b8e186\"],[0.8,\"#7fbc41\"],[0.9,\"#4d9221\"],[1,\"#276419\"]]},\"xaxis\":{\"gridcolor\":\"white\",\"linecolor\":\"white\",\"ticks\":\"\",\"title\":{\"standoff\":15},\"zerolinecolor\":\"white\",\"automargin\":true,\"zerolinewidth\":2},\"yaxis\":{\"gridcolor\":\"white\",\"linecolor\":\"white\",\"ticks\":\"\",\"title\":{\"standoff\":15},\"zerolinecolor\":\"white\",\"automargin\":true,\"zerolinewidth\":2},\"scene\":{\"xaxis\":{\"backgroundcolor\":\"#E5ECF6\",\"gridcolor\":\"white\",\"linecolor\":\"white\",\"showbackground\":true,\"ticks\":\"\",\"zerolinecolor\":\"white\",\"gridwidth\":2},\"yaxis\":{\"backgroundcolor\":\"#E5ECF6\",\"gridcolor\":\"white\",\"linecolor\":\"white\",\"showbackground\":true,\"ticks\":\"\",\"zerolinecolor\":\"white\",\"gridwidth\":2},\"zaxis\":{\"backgroundcolor\":\"#E5ECF6\",\"gridcolor\":\"white\",\"linecolor\":\"white\",\"showbackground\":true,\"ticks\":\"\",\"zerolinecolor\":\"white\",\"gridwidth\":2}},\"shapedefaults\":{\"line\":{\"color\":\"#2a3f5f\"}},\"annotationdefaults\":{\"arrowcolor\":\"#2a3f5f\",\"arrowhead\":0,\"arrowwidth\":1},\"geo\":{\"bgcolor\":\"white\",\"landcolor\":\"#E5ECF6\",\"subunitcolor\":\"white\",\"showland\":true,\"showlakes\":true,\"lakecolor\":\"white\"},\"title\":{\"x\":0.05},\"mapbox\":{\"style\":\"light\"}}},\"xaxis\":{\"anchor\":\"y\",\"domain\":[0.0,0.2125],\"title\":{\"text\":\"Pclass\"},\"tickmode\":\"linear\",\"dtick\":1,\"showline\":true,\"mirror\":true,\"linecolor\":\"black\"},\"yaxis\":{\"anchor\":\"x\",\"domain\":[0.575,1.0],\"title\":{\"text\":\"Counts\",\"standoff\":0.1},\"range\":[0,776.1600000000001],\"showline\":true,\"mirror\":true,\"linecolor\":\"black\"},\"xaxis2\":{\"anchor\":\"y2\",\"domain\":[0.2625,0.475],\"title\":{\"text\":\"Sex\"},\"tickmode\":\"linear\",\"dtick\":1,\"showline\":true,\"mirror\":true,\"linecolor\":\"black\"},\"yaxis2\":{\"anchor\":\"x2\",\"domain\":[0.575,1.0],\"title\":{\"text\":\"Counts\",\"standoff\":0.1},\"range\":[0,771.6800000000001],\"showline\":true,\"mirror\":true,\"linecolor\":\"black\"},\"xaxis3\":{\"anchor\":\"y3\",\"domain\":[0.525,0.7375],\"title\":{\"text\":\"Fare_level\"},\"tickmode\":\"linear\",\"dtick\":1,\"showline\":true,\"mirror\":true,\"linecolor\":\"black\"},\"yaxis3\":{\"anchor\":\"x3\",\"domain\":[0.575,1.0],\"title\":{\"text\":\"Counts\",\"standoff\":0.1},\"range\":[0,1070.72],\"showline\":true,\"mirror\":true,\"linecolor\":\"black\"},\"xaxis4\":{\"anchor\":\"y4\",\"domain\":[0.7875,1.0],\"title\":{\"text\":\"Age_group\"},\"tickmode\":\"linear\",\"dtick\":1,\"showline\":true,\"mirror\":true,\"linecolor\":\"black\"},\"yaxis4\":{\"anchor\":\"x4\",\"domain\":[0.575,1.0],\"title\":{\"text\":\"Counts\",\"standoff\":0.1},\"range\":[0,477.12000000000006],\"showline\":true,\"mirror\":true,\"linecolor\":\"black\"},\"xaxis5\":{\"anchor\":\"y5\",\"domain\":[0.0,0.2125],\"title\":{\"text\":\"Embarked_code\"},\"tickmode\":\"linear\",\"dtick\":1,\"showline\":true,\"mirror\":true,\"linecolor\":\"black\"},\"yaxis5\":{\"anchor\":\"x5\",\"domain\":[0.0,0.425],\"title\":{\"text\":\"Counts\",\"standoff\":0.1},\"range\":[0,833.2800000000001],\"showline\":true,\"mirror\":true,\"linecolor\":\"black\"},\"xaxis6\":{\"anchor\":\"y6\",\"domain\":[0.2625,0.475],\"title\":{\"text\":\"FamilySize\"},\"tickmode\":\"linear\",\"dtick\":1,\"showline\":true,\"mirror\":true,\"linecolor\":\"black\"},\"yaxis6\":{\"anchor\":\"x6\",\"domain\":[0.0,0.425],\"title\":{\"text\":\"Counts\",\"standoff\":0.1},\"range\":[0,738.08],\"showline\":true,\"mirror\":true,\"linecolor\":\"black\"},\"xaxis7\":{\"anchor\":\"y7\",\"domain\":[0.525,0.7375],\"title\":{\"text\":\"Companions\"},\"tickmode\":\"linear\",\"dtick\":1,\"showline\":true,\"mirror\":true,\"linecolor\":\"black\"},\"yaxis7\":{\"anchor\":\"x7\",\"domain\":[0.0,0.425],\"title\":{\"text\":\"Counts\",\"standoff\":0.1},\"range\":[0,692.1600000000001],\"showline\":true,\"mirror\":true,\"linecolor\":\"black\"},\"xaxis8\":{\"anchor\":\"y8\",\"domain\":[0.7875,1.0],\"title\":{\"text\":\"Title\"},\"tickmode\":\"linear\",\"dtick\":1,\"showline\":true,\"mirror\":true,\"linecolor\":\"black\"},\"yaxis8\":{\"anchor\":\"x8\",\"domain\":[0.0,0.425],\"title\":{\"text\":\"Counts\",\"standoff\":0.1},\"range\":[0,696.6400000000001],\"showline\":true,\"mirror\":true,\"linecolor\":\"black\"},\"annotations\":[{\"font\":{\"size\":16},\"showarrow\":false,\"text\":\"Passenger Class\",\"x\":0.10625,\"xanchor\":\"center\",\"xref\":\"paper\",\"y\":1.0,\"yanchor\":\"bottom\",\"yref\":\"paper\"},{\"font\":{\"size\":16},\"showarrow\":false,\"text\":\"Sex\",\"x\":0.36875,\"xanchor\":\"center\",\"xref\":\"paper\",\"y\":1.0,\"yanchor\":\"bottom\",\"yref\":\"paper\"},{\"font\":{\"size\":16},\"showarrow\":false,\"text\":\"Fare_level\",\"x\":0.6312500000000001,\"xanchor\":\"center\",\"xref\":\"paper\",\"y\":1.0,\"yanchor\":\"bottom\",\"yref\":\"paper\"},{\"font\":{\"size\":16},\"showarrow\":false,\"text\":\"Age_group\",\"x\":0.89375,\"xanchor\":\"center\",\"xref\":\"paper\",\"y\":1.0,\"yanchor\":\"bottom\",\"yref\":\"paper\"},{\"font\":{\"size\":16},\"showarrow\":false,\"text\":\"Embarked_code\",\"x\":0.10625,\"xanchor\":\"center\",\"xref\":\"paper\",\"y\":0.425,\"yanchor\":\"bottom\",\"yref\":\"paper\"},{\"font\":{\"size\":16},\"showarrow\":false,\"text\":\"Familysize\",\"x\":0.36875,\"xanchor\":\"center\",\"xref\":\"paper\",\"y\":0.425,\"yanchor\":\"bottom\",\"yref\":\"paper\"},{\"font\":{\"size\":16},\"showarrow\":false,\"text\":\"Companions\",\"x\":0.6312500000000001,\"xanchor\":\"center\",\"xref\":\"paper\",\"y\":0.425,\"yanchor\":\"bottom\",\"yref\":\"paper\"},{\"font\":{\"size\":16},\"showarrow\":false,\"text\":\"Titles\",\"x\":0.89375,\"xanchor\":\"center\",\"xref\":\"paper\",\"y\":0.425,\"yanchor\":\"bottom\",\"yref\":\"paper\"}],\"title\":{\"text\":\"Variables distributons for passengers of the Cabin N\"},\"height\":700,\"width\":1500,\"showlegend\":false,\"plot_bgcolor\":\"white\",\"paper_bgcolor\":\"white\"},                        {\"responsive\": true}                    ).then(function(){\n",
       "                            \n",
       "var gd = document.getElementById('b06d0ab3-1429-4a78-a4f7-a9baa49dbb00');\n",
       "var x = new MutationObserver(function (mutations, observer) {{\n",
       "        var display = window.getComputedStyle(gd).display;\n",
       "        if (!display || display === 'none') {{\n",
       "            console.log([gd, 'removed!']);\n",
       "            Plotly.purge(gd);\n",
       "            observer.disconnect();\n",
       "        }}\n",
       "}});\n",
       "\n",
       "// Listen for the removal of the full notebook cells\n",
       "var notebookContainer = gd.closest('#notebook-container');\n",
       "if (notebookContainer) {{\n",
       "    x.observe(notebookContainer, {childList: true});\n",
       "}}\n",
       "\n",
       "// Listen for the clearing of the current output cell\n",
       "var outputEl = gd.closest('.output');\n",
       "if (outputEl) {{\n",
       "    x.observe(outputEl, {childList: true});\n",
       "}}\n",
       "\n",
       "                        })                };                });            </script>        </div>"
      ]
     },
     "metadata": {},
     "output_type": "display_data"
    }
   ],
   "source": [
    "# Load the dataset\n",
    "titanic_eng_dataset = 'https://raw.githubusercontent.com/praoiticica/Articles/main/Titanic%20Data%20Cleaning%20and%20Feature%20Engineering/titanic_datasets/titanic_eng.csv'\n",
    "\n",
    "df = pd.read_csv(titanic_eng_dataset)\n",
    "\n",
    "# Filter the DataFrame for passengers with cabin label 'N'\n",
    "cabin_N_passengers = df[df['Cabin_label'] == 'N']\n",
    "\n",
    "# Create subplots\n",
    "fig = make_subplots(rows=2, cols=4,\n",
    "                    vertical_spacing=0.15,\n",
    "                    horizontal_spacing=0.05,\n",
    "                    subplot_titles=[\n",
    "                            'Passenger Class',\n",
    "                            'Sex',\n",
    "                            'Fare_level',\n",
    "                            'Age_group',\n",
    "                            'Embarked_code',\n",
    "                            'Familysize',\n",
    "                            'Companions',\n",
    "                            'Titles'\n",
    "                            ]\n",
    "                   )\n",
    "\n",
    "# Define the column names and subplot indices\n",
    "column_names = ['Pclass', 'Sex', 'Fare_level', 'Age_group', 'Embarked_code', 'FamilySize', 'Companions', 'Title']\n",
    "subplot_indices = [(1, 1), (1, 2), (1, 3), (1, 4), (2, 1), (2, 2), (2, 3), (2, 4)]\n",
    "\n",
    "# Add traces for each column\n",
    "for i, column in enumerate(column_names):\n",
    "    row, col = subplot_indices[i]\n",
    "    counts = cabin_N_passengers[column].value_counts()\n",
    "    max_count = counts.max()\n",
    "    \n",
    "    fig.add_trace(go.Bar(x=counts.index, y=counts.values, text = counts.values, textposition='outside', width = 0.9), row=row, col=col)\n",
    "    \n",
    "    # Update x-axis and y-axis titles\n",
    "    fig.update_xaxes(title=column, row=row, col=col)\n",
    "    fig.update_yaxes(title='Counts', row=row, col=col, title_standoff=0.1)\n",
    "    fig.update_traces(textfont={'size': 15}, row=row, col=col)\n",
    "    \n",
    "     # Calculate the y-axis range with a small margin\n",
    "    y_range = [0, max_count * 1.12]  # Adjust the margin as desired\n",
    "    fig.update_yaxes(range=y_range, row=row, col=col)\n",
    "\n",
    "\n",
    "# Update subplot size and spacing\n",
    "fig.update_layout(\n",
    "    title = 'Variables distributons for passengers of the Cabin N',\n",
    "    height=700, width=1500, showlegend=False,\n",
    "    plot_bgcolor='white', paper_bgcolor='white',\n",
    ")\n",
    "\n",
    "# Set x-axis tickmode to 'linear' and dtick to 1 to show all tick values\n",
    "fig.update_xaxes(tickmode='linear', dtick=1)\n",
    "\n",
    "# Update subplot axis options\n",
    "for row in range(1, 3):\n",
    "    for col in range(1, 5):\n",
    "        fig.update_xaxes(showline=True, mirror=True, linecolor='black', row=row, col=col)\n",
    "        fig.update_yaxes(showline=True, mirror=True, linecolor='black', row=row, col=col)\n",
    "\n",
    "fig.show()"
   ]
  },
  {
   "cell_type": "markdown",
   "id": "e6b6bec2-c08e-46e4-9ff3-ae8e3fde48d0",
   "metadata": {
    "tags": []
   },
   "source": [
    "## Dash app to interact and see the results for each cabin label"
   ]
  },
  {
   "cell_type": "markdown",
   "id": "289264c5-9a46-4718-ac41-c4b8a4497cfd",
   "metadata": {
    "tags": []
   },
   "source": [
    "## Dash plot - Titanic_Cabin Label profiles\n",
    "\n",
    "['Variables distributons for passengers of the Cabin labels'](https://titanic-eda-cabinlabel-barplots.onrender.com/)"
   ]
  }
 ],
 "metadata": {
  "kernelspec": {
   "display_name": "Python 3 (ipykernel)",
   "language": "python",
   "name": "python3"
  },
  "language_info": {
   "codemirror_mode": {
    "name": "ipython",
    "version": 3
   },
   "file_extension": ".py",
   "mimetype": "text/x-python",
   "name": "python",
   "nbconvert_exporter": "python",
   "pygments_lexer": "ipython3",
   "version": "3.9.16"
  }
 },
 "nbformat": 4,
 "nbformat_minor": 5
}
